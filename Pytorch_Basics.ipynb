{
  "nbformat": 4,
  "nbformat_minor": 0,
  "metadata": {
    "colab": {
      "provenance": []
    },
    "kernelspec": {
      "name": "python3",
      "display_name": "Python 3"
    },
    "language_info": {
      "name": "python"
    }
  },
  "cells": [
    {
      "cell_type": "code",
      "execution_count": null,
      "metadata": {
        "id": "QP9I5Uwi8t1j"
      },
      "outputs": [],
      "source": [
        "# Going to learn about the basics of Pytorch\n",
        "# Resource i am using for this : https://uvadlc-notebooks.readthedocs.io/en/latest/tutorial_notebooks/tutorial2/Introduction_to_PyTorch.html#"
      ]
    },
    {
      "cell_type": "code",
      "source": [
        "## Standard libraries\n",
        "import os\n",
        "import math\n",
        "import numpy as np\n",
        "import time\n",
        "\n",
        "## Imports for plotting\n",
        "import matplotlib.pyplot as plt\n",
        "%matplotlib inline\n",
        "from IPython.display import set_matplotlib_formats\n",
        "set_matplotlib_formats('svg', 'pdf') # For export\n",
        "from matplotlib.colors import to_rgba\n",
        "import seaborn as sns\n",
        "sns.set()\n",
        "\n",
        "## Progress bar\n",
        "from tqdm.notebook import tqdm"
      ],
      "metadata": {
        "collapsed": true,
        "id": "TEE6VfOk802b"
      },
      "execution_count": null,
      "outputs": []
    },
    {
      "cell_type": "code",
      "source": [
        "import torch\n",
        "print(\"Using torch\", torch.__version__)"
      ],
      "metadata": {
        "collapsed": true,
        "id": "hc-QuO2f8-9-"
      },
      "execution_count": null,
      "outputs": []
    },
    {
      "cell_type": "code",
      "source": [
        "# A very good practice is to setup your code to be reproducible with the exact same random numbers. This is why we set a seed below.\n",
        "torch.manual_seed(42)"
      ],
      "metadata": {
        "collapsed": true,
        "id": "w30YiBz99F6a"
      },
      "execution_count": null,
      "outputs": []
    },
    {
      "cell_type": "markdown",
      "source": [
        "**Tensors** - PyTorch's version of NumPy arrays, but GPU-ready:"
      ],
      "metadata": {
        "id": "2AiFwB7X-GVa"
      }
    },
    {
      "cell_type": "code",
      "source": [
        "# Creating Tensors\n",
        "x = torch.tensor([1,2,3])\n",
        "y = torch.tensor([[1,2],[3,4]])\n",
        "z = torch.tensor([[1,2,3],[4,5,6]])\n",
        "u = torch.rand(3,4) # Tensor with random values uniformly sampled between 0 and 1\n",
        "p = torch.randn(3,4) # Tensor with random values sampled from a normal distribution with mean 0 and variance 1\n",
        "q = torch.zeros(2,3)\n",
        "\n",
        "# Printing Tensors\n",
        "print(x)\n",
        "print(y)\n",
        "print(z)\n",
        "print(u)\n",
        "print(p)\n",
        "print(q)"
      ],
      "metadata": {
        "collapsed": true,
        "id": "Q5-b_2qC9K3f"
      },
      "execution_count": null,
      "outputs": []
    },
    {
      "cell_type": "code",
      "source": [
        "r = torch.tensor([[1,2],[8,6]]); # Infers int64 from integers\n",
        "t = torch.Tensor([[1,2],[8,6]]); # Forces float32\n",
        "\n",
        "print(r)\n",
        "print(t)"
      ],
      "metadata": {
        "collapsed": true,
        "id": "yqEh1vvw-j4l"
      },
      "execution_count": null,
      "outputs": []
    },
    {
      "cell_type": "code",
      "source": [
        "# Creates a 4D tensor with random values b/w 0 and 1.\n",
        "# The use case i can see it this or can visulize the 4D tensor like this\n",
        "\n",
        "# Shape: (batch_size, channels, height, width)\n",
        "batch_of_images = torch.rand(32, 3, 224, 224)\n",
        "# - 32 images in the batch\n",
        "# - 3 color channels (RGB)\n",
        "# - 224x224 pixel resolution\n",
        "\n",
        "print(batch_of_images)\n",
        "print(\"Shape : \", batch_of_images.shape)"
      ],
      "metadata": {
        "collapsed": true,
        "id": "9J7NYTbLAhsT"
      },
      "execution_count": null,
      "outputs": []
    },
    {
      "cell_type": "markdown",
      "source": [
        "Tensor to Numpy, and Numpy to Tensor\n",
        "\n",
        "Quick reference:\n",
        "\n",
        "**tensor.numpy()** - fast, shared memory\n",
        "\n",
        "**tensor.detach().numpy()** - safe with gradients\n",
        "\n",
        "**torch.from_numpy(array)** - fast, shared memory\n",
        "\n",
        "**torch.tensor(array)** - safe, creates copy\n"
      ],
      "metadata": {
        "id": "UhQ96K_1DA6a"
      }
    },
    {
      "cell_type": "code",
      "source": [
        "# Create 3x3 numpy array [0-8] and reshape from 1D to 2D\n",
        "np_arr = np.arange(9).reshape(3,3)  # [[0,1,2],[3,4,5],[6,7,8]]\n",
        "\n",
        "# Convert to tensor - SHARES memory with numpy array\n",
        "tensor = torch.from_numpy(np_arr)\n",
        "\n",
        "# Convert to tensor - COPIES data (independent)\n",
        "tensor2 = torch.tensor(np_arr)\n",
        "\n",
        "# Modify original numpy array\n",
        "np_arr[0,0] = 96\n",
        "\n",
        "# Modify shared tensor (affects numpy array too!)\n",
        "tensor[1][1] = 69\n",
        "\n",
        "print(\"Numpy array: \\n\",np_arr)      # Shows both changes: 96 and 69\n",
        "print(\"Pytorch tensor: \\n\",tensor)   # Shows both changes: 96 and 69\n",
        "print(\"Pytorch tensor: \\n\",tensor2)  # Shows ONLY original values [0-8]\n",
        "\n",
        "# Key: from_numpy() = shared memory, tensor() = separate copy"
      ],
      "metadata": {
        "id": "5j8osxBzBsqS"
      },
      "execution_count": null,
      "outputs": []
    },
    {
      "cell_type": "code",
      "source": [
        "# To transform a PyTorch tensor back to a numpy array, we can use the function .numpy() on tensors:\n",
        "\n",
        "tensor3 = torch.arange(4).reshape(2,2)\n",
        "num_array2 = tensor3.numpy()\n",
        "\n",
        "print(num_array2)"
      ],
      "metadata": {
        "id": "swFWqXQ5EHOX"
      },
      "execution_count": null,
      "outputs": []
    },
    {
      "cell_type": "markdown",
      "source": [
        "**Operations**"
      ],
      "metadata": {
        "id": "liyy9XwqH1FW"
      }
    },
    {
      "cell_type": "code",
      "source": [
        "x1 = torch.rand(2,3)\n",
        "x2 = torch.rand(2,3)\n",
        "y = x1 + x2\n",
        "\n",
        "print(\"x1 : \\n\", x1)\n",
        "print(\"x2 : \\n\" , x2)\n",
        "\n",
        "x2.add_(x1)\n",
        "print(\"y : \\n\" , y) # Creates a new vector containing the sum of two inputs.\n",
        "print(\"x2 : \\n\" , x2) # in-place Operation, changed the value of x2"
      ],
      "metadata": {
        "collapsed": true,
        "id": "e_ZUXgp_Hs1L"
      },
      "execution_count": null,
      "outputs": []
    },
    {
      "cell_type": "code",
      "source": [
        "x = torch.arange(6)\n",
        "print(\"view():\", x.view(2, 3))\n",
        "print(\"reshape():\", x.reshape(2, 3))\n",
        "\n",
        "# But this shows the difference\n",
        "x = torch.arange(12).view(3, 4).t()  # transpose makes non-contiguous\n",
        "# x.view(2, 6)     # Would fail\n",
        "x.reshape(2, 6)    # Works fine\n",
        "\n",
        "\n",
        "# KEY DIFFERENCE:\n",
        "# view() = fails on non-contiguous tensors, guaranteed memory sharing\n",
        "# reshape() = always works, may copy data\n",
        "\n",
        "# WHEN TO USE:\n",
        "# view() → when you know tensor is contiguous & need speed\n",
        "# reshape() → when unsure or working with sliced/transposed tensors"
      ],
      "metadata": {
        "id": "nJ2pLcsNOMJq",
        "collapsed": true
      },
      "execution_count": null,
      "outputs": []
    },
    {
      "cell_type": "code",
      "source": [
        "x = torch.arange(6).view(2,3)\n",
        "y = torch.arange(6).view(3,2)\n",
        "\n",
        "h = torch.matmul(x,y)\n",
        "print(\"Matrix multiplication \\n: \", h)"
      ],
      "metadata": {
        "id": "3LgSRKS6Q6L4"
      },
      "execution_count": null,
      "outputs": []
    },
    {
      "cell_type": "markdown",
      "source": [
        "**Indexing** : Situation where we need to select a part of a tensor."
      ],
      "metadata": {
        "id": "RsuMlUtXTIeB"
      }
    },
    {
      "cell_type": "code",
      "source": [
        "x = torch.arange(12).view(3,4)\n",
        "\n",
        "print(x)"
      ],
      "metadata": {
        "id": "DLzuoYeWR3Va"
      },
      "execution_count": null,
      "outputs": []
    },
    {
      "cell_type": "code",
      "source": [
        "# Row slicing\n",
        "print(x[0:2])         # First 2 rows\n",
        "print(x[1:])          # From row 1 to end\n",
        "print(x[::2])         # Every 2nd row\n",
        "\n",
        "# Column slicing\n",
        "print(x[:, 1:3])      # All rows, columns 1-2\n",
        "print(x[:, ::2])      # All rows, every 2nd column\n",
        "\n",
        "# Combined slicing\n",
        "print(x[1:3, 0:2])    # Rows 1-2, columns 0-1"
      ],
      "metadata": {
        "id": "xeuiJs1cTqSg"
      },
      "execution_count": null,
      "outputs": []
    },
    {
      "cell_type": "markdown",
      "source": [
        "**Dynamic Computation Graph and Backpropagation**\n",
        "\n",
        "---\n",
        "PyTorch is a define-by-run framework; this means that we can just do our manipulations, and PyTorch will keep track of that graph for us. Thus, we create a dynamic computation graph along the way.\n",
        "\n",
        "The only thing we have to do is to compute the output, and then we can ask PyTorch to automatically get the gradients.\n",
        "\n"
      ],
      "metadata": {
        "id": "xmfKAOhfWC5z"
      }
    },
    {
      "cell_type": "markdown",
      "source": [
        "**Note**: Why do we want gradients? Consider that we have defined a function, a neural net, that is supposed to compute a certain output\n",
        " for an input vector\n",
        ". We then define an error measure that tells us how wrong our network is; how bad it is in predicting output\n",
        " from input\n",
        ". Based on this error measure, we can use the gradients to update the weights\n",
        " that were responsible for the output, so that the next time we present input\n",
        " to our network, the output will be closer to what we want."
      ],
      "metadata": {
        "id": "WX3DCgxxW2AT"
      }
    },
    {
      "cell_type": "code",
      "source": [
        "# The first thing we have to do is to specify which tensors require gradients. By default, when we create a tensor, it does not require gradients.\n",
        "x = torch.ones(3,3)\n",
        "print(x.requires_grad)"
      ],
      "metadata": {
        "id": "bGWozQrpWg-q"
      },
      "execution_count": null,
      "outputs": []
    },
    {
      "cell_type": "markdown",
      "source": [
        "We can change this for an existing tensor using the function requires_grad_() (underscore indicating that this is a in-place operation)\n",
        "\n",
        "Alternatively, when creating a tensor, you can pass the argument requires_grad=True to most initializers we have seen above."
      ],
      "metadata": {
        "id": "ByfaqdNyflE0"
      }
    },
    {
      "cell_type": "code",
      "source": [
        "x.requires_grad_(True)\n",
        "print(x.requires_grad)"
      ],
      "metadata": {
        "id": "NdXfoRAaT7va"
      },
      "execution_count": null,
      "outputs": []
    },
    {
      "cell_type": "code",
      "source": [
        "# going to create an example function\n",
        "\n",
        "x = torch.arange(3, dtype=torch.float32, requires_grad=True) # Only float tensors can have gradients\n",
        "print(\"X : \",x)\n"
      ],
      "metadata": {
        "id": "-5fKEyt3fyUo"
      },
      "execution_count": null,
      "outputs": []
    },
    {
      "cell_type": "code",
      "source": [
        "a = x + 2\n",
        "b = a ** 2\n",
        "c = b + 3\n",
        "y = c.mean()\n",
        "\n",
        "print(y)"
      ],
      "metadata": {
        "id": "sb4PZJ4Qgugo"
      },
      "execution_count": null,
      "outputs": []
    },
    {
      "cell_type": "markdown",
      "source": [
        "Need to check about the gradient part"
      ],
      "metadata": {
        "id": "SrkAaUXhi0w4"
      }
    },
    {
      "cell_type": "markdown",
      "source": [
        "**THE MODEL**\n"
      ],
      "metadata": {
        "id": "mV0q6XDlaeiB"
      }
    },
    {
      "cell_type": "code",
      "source": [
        "import torch.nn as nn\n",
        "import torch.nn.functional as F"
      ],
      "metadata": {
        "id": "xGJ3QZH7g_xx"
      },
      "execution_count": null,
      "outputs": []
    },
    {
      "cell_type": "markdown",
      "source": [
        "**nn.Module** : It is the base class for all neural network components in PyTorch. Think of it as a \"building block\" - everything from a single layer to an entire network inherits from it.\n",
        "\n",
        "__ init __ : \"What layers do I have?\"\n",
        "\n",
        "**forward**: \"How does data flow through them?\"\n",
        "\n",
        "**Calling model(x)**: Automatically runs forward(x) + tracks gradients\n",
        "\n",
        "We just define the forward pass, PyTorch handles the backward pass automatically!"
      ],
      "metadata": {
        "id": "fMxHwh4Ecb_5"
      }
    },
    {
      "cell_type": "code",
      "source": [
        "# Template\n",
        "class MyModule(nn.Module):\n",
        "\n",
        "    def __init__(self):\n",
        "        super().__init__()\n",
        "        # Some init for my module / We create the Parameters of Module (using nn.Parameter)\n",
        "\n",
        "    def forward(self, x):\n",
        "        # Function for performing the calculation of the module.\n",
        "        pass"
      ],
      "metadata": {
        "id": "FmjM_yXna10z"
      },
      "execution_count": null,
      "outputs": []
    },
    {
      "cell_type": "markdown",
      "source": [
        "**We Will make a input layer, one hidden layer with tanh as activation function, and a output layer.**\n",
        "\n",
        "![pic1.png](data:image/png;base64,iVBORw0KGgoAAAANSUhEUgAAAdcAAAFXCAYAAADwNAQZAAAAAXNSR0IArs4c6QAAAARnQU1BAACxjwv8YQUAAAAJcEhZcwAAEnQAABJ0Ad5mH3gAAJVnSURBVHhe7N13PFZ/H8fxl/bSXkRp/Npp713aQzulodKOJqK9iDbtqSHtQVNoL21KS0Qiq2kl1f0HrpvToi7r8n0+Hj3uOp/PcedXeTvnfM/nqxQbG/sdQRAEQRDkJpv0gCAIgiAI/0aEqyAIgiDImQhXQRAEQZAzEa6CIAiCIGciXAVBEARBzkS4CoIgCIKciXAVBEEQBDkT4SoIgiAIcibCVRAEQRDkTISrIAiCIMiZCFdBEARBkDMRroIgCIIgZyJcBUEQBEHORLgKgiAIgpyJcBUEQRAEORPhKgiCIAhyJsJVEARBEORMhKsgCIIgyJkIV0EQBEGQMxGugiAIgiBnIlwFQRAEQc5EuAqCIAiCnIlwFQRBEAQ5E+EqCIIgCHImwlUQBEEQ5EyEqyAIgiDImQhXQRAEQZAzEa6CIAiCIGciXAVBEARBzkS4CoIgCIKciXAVBEEQBDkT4SoIgiAIcibCVRAEQRDkTISrIAiCIMiZCFdBEARBkDMRroIgCIIgZyJcBUEQBEHORLgKgiAIgpyJcBUEQRAEORPhKgiCIAhyphQbG/tdelAQhIzl69evPHD34NEjT7x9fHjl/5rQ0FA+fPjI58+fAcidOzeFChWkRIkSqJUpQ6WKFaherSp16tRGSUlJ+iEFQUhFIlwFIYOKiYnB2eU8Fy9d5vqNm8TGxiapKxfIj7KyMrlz5wLg8+cYPn76SHh4ZJK+XLly0qRxY9q0bolW+3bkyJEjSV0QBPkT4SoIGcyrV/4cPnoMxxMniYqKBqBkyeLUr1uLGtWr8t9/FSirVoYCBfJJTwXgU0QEr/xe8+y5Nw8fPeHOPQ9CQ8MAyJcvH9o9u9O7V0/UypSRnioIgpyIcBWEDOLt23fY7trNocNHAcifPx+dOrahfZsWaNaqLm1Pkfvujzh//ipnnFyJjA/sgf37MXzYEAoXLiRtFwThH4lwFYQM4PDRY2zYuIXIyEiKFy+GzoCe9NbuSq6cOaWt/+Tz5xiOHDvJ/oPHCXv7HuUCBRg/bgy9tHtIWwVB+AciXAUhHb17/57lK1Zx/sIlAPSGDmDEcB2yZUvdhfxfvnxhx6797LY7BED7dm0wnjENZWVlaasgCH9BhKsgpBMPj4fMX7SEwMA31NGsgcGkUVSuVEHalqqePPPCZu023B8+Rl2tDHNnm1Gjxr/dghYEQYSrIKSLS5evYDZ7Ht++fWNAv54YTBgpbUlTq9du4fCRk+TMmRPzxQto3qyptEUQhBQQ4SoIaez8hYvMmjMfgCmTRtO3TzdpS7o4cMgBm/XbAbC0WEzLFs2lLYIgJJMIV0FIQ7du3WHytBkAmBob0rVzO2lLunI8eQ6rFesAWLtmJfXq1ZW2CIKQDKm7akIQBJlXr/yZt3ARAEbTxme4YAXo0a0D0wzHAjBv4WICAgKlLYIgJIMIV0FIIxaWy3j//gMjhuvQs3snaTnD6N2rC8OG9Ccs7C1LrZZLy4IgJIMIV0FIA5u2bOP+A3dat2zKyOE60nKGM3qkLs2bNeT2nbts27FTWhYE4Q/EM1dBSGWPHnkyetxEihQqxM7t1hQpknEmIkVERPLp0yc+fvzEx0+fqFBBg6JFigAQEhLG8FGGfAqPYMfWTVSpUll6uiAIvyCuXAUhlW3dbgvA2DFD0zVYfXxesmu3PdNmmKLVoQfFSpSlaHF1ypWvTq3ajWneQot7dx/I+kuUKMbY0cMg0ecgCELyiCtXQUhFly5fYabZHOrWqYn1ysXScqrz8HjE/gNHcHA8ydOnz5PUKlWqQNmy6hQqWJDChQtRsGBBxo0dSYUK5ZP0TZxshruHJyuWLaVpk8ZJaoIg/JwIV0FIRRMNp3Lv3n2WL51L40b1pOVUExUVzdx5i7G22QDxmwD06d2Tnj27UatmdcqX15Ce8ktXr7kxc7Y5jRo2YPXKZdKyIAg/IW4LC0Iq8fB4yL1796mjWSNNg/XO3fvUqdcMa5sNFC9WjK1b1vE29BVbt6yjZ4+uKQpWgObNGlGzehXcbt3G8/ETaVkQhJ8Q4SoIqeT0WScAunXVkpZSzaVLV+nYqScvX/oycsRQHj26xdAh/746uVvXDgCcdTonLQmC8BMiXAUhlbiev0i+fHnpqNVaWkoVfn6v6NVHh4iISNavW8WG9aspXEg+C6g6arUmV86cuLiel5YEQfgJEa6CkApu3brNx48fadGsUapvH5dgxMjxREREsm7tSkaNjFvlKy+5cuWkebNGvH37jnv3/7+iWBCEn0ubf/WCkMXcuXcfgEYN02Y278aN27hy9TqtWjWXe7AmSPhc7sZ/boIg/JoIV0FIBR4eDwGoo5k2e6MuXLSU3Llzs2WTjbQkN3U0awDg7uEhLQmCICHCVRBSwbPnXhQvWoRSpUpKS3J3+849wt6+pZd2dzQ0yknLcqOmpkLhQgV5/txLWhIEQUKEqyDIWXBwCBEREZQtpyYtpYoTJ04DoKXVVlqSu7Jl1Xj//gPv3r2TlgRBSESEqyDIWXBICAAqpUtJS6ni3n13AOrUriUtyZ1K/JV4cHDc5ygIws+JcBUEOXv37j0ARQrL5zWYPwmJDzrVMirSktwVjv+c3r2P+xwFQfg5Ea6CEC86Opphw4ZRvnx56tatS7t27ejbty/6+voYGRmxZMkS1q9fj729PWfOnOHmzZs8ffqU4OBgYmNjZR8nKioSgHz58ib66KknOCSUHDlyULxYMWlJ7vLlj/ucoqKipCVBEBIRs4UFIZHv378zY8YM1qxZIy39Ub58+ShSpAglSpYiV578jBszFF2dvtI2uStctAwlS5bk2ZN70pLc2e4+wLYde1k4fy5a7VP/Ga8gZFbiylUQElFSUmLFihWsXr1aWvqjyMhIAgIC0NSsDUDsl6/SFrkLD48gKiqaUiVLSEupIvbLFwBy5swhLQmCkIgIV0H4iUmTJnH8+HFy586NkpKStPxLnTt3Rl9/FACfwiOkZbkLCgoGoGSptAnXTxFxn1OBAgWkJUEQEhHhKgi/0K1bNy5fvkyxZD7LbNy4MQcOHKBEibigCw19K22Ru/sP4lYKlyqZ+u/TAoTFf05FixSRlgRBSESEqyD8Rr169bC0tERZWVlaSqJSpUqcOHGCvHnzUjr+FZyAgEBpm9ydPh23806DBmmzpV1AQNyVsopKaWlJEIRERLgKwk+EhYWxYsUKNDU1GTVqFJ8+fZK2yBQtWpRTp05RJP5qTrlAAUqXKoWP7ytpq9ydPn2O7Nmz06tXd2lJ7r5//473S1/KlFElT5480rIgCImIcBWERK5cuYK+vj6lS5fGxMQET09PtLW1mT9/vrQVgDx58nD27FkqVKiQ5HjVqpWJjv7M02cvkhyXJ9uddoSGhdGiRdM0uU376PEzvn79SrWqVaUlQRAkRLgKWd6XL1/YsmULzZs3p02bNtja2lKqVClmzpzJkydPOHz4MFWqVElyjpKSEtmyZePgwYPUrfvjzjeateKmJd27nzpD7kNCQjE2mQ3AvLmm0nKquHcv7nOprZn6k6AEIbMT4SpkWR4eHkyfPp3SpUszfvx4bt68SZs2bdi5cyf+/v4sXryYSpUqQfxt4sS+f//OunXr6NKlS5LjCRo2bADAtRu3paV/FhIaSsfO2nz48JERekNo3qyJtCVV3HC7C2n4fFcQMjMRrkKWc+DAAbp27UrdunVZs2YNMTExTJgwATc3N5ydndHV1ZWe8kO4GhkZMXr06CTHEqtYoTwVK1bg3v2HvHkTtwhIHp4986JFy454ej6hRfOmrFyxVNqSKl69CsDdw5MqVSpTrmxZaVkQBAkRrkKW4Ovry8KFC6lQoQKDBw/GycmJevXqYW1tTVBQENbW1tSr9+srssTh2qtXL8zNzZPUf6ZD+3YAnHE6Ly2l2OfPn1m02JIGjVrx8qUvzZs1wdHhYJqNWEz4HBI+J0EQfk+Eq6DQzpw5g46ODhUrVmThwoX4+fmhq6vLuXPncHNzY8KECeTLl0962g/evo17v7N58+bY2dkla7BEl84dATh+4qy0lGze3j5YLF1BrdpNWLzEis+fP7Ng/ixcXU6mWbB+//4dx5PnAOjapZO0LAjCT4jZwoLCeffuHba2ttja2vLo0SOIfw91+PDhjBgxgtKlU/6OZvfu3Xn58iWXL1+WvXKTHJZWKzjueALDiaPo37eHtCzz5k0Qfq/8efHCmxcvfPDy8ubhI088POJ+/wC9e/Vg+bIlqKmVSXJuatt34BjrNtrSp3cvZkybLC0LgvATIlwFhXH9+nVZqH79GjfXt3v37owYMQJtbW1pe4poa2uzfv16ypRJWbC9fOnL4KF6FCtamH17NpEnT25Z7dr1m4weMwkvL+8k5yT2338VGaE3BN3BA2XDKdJSeHgkOkPG8eHjRw7Y70nzYBeEzEqEq5Cpffv2TRao165dA6BEiRKMGDGC4cOH//AKzd8KDAxEReXv9ku1XrueffsP0r9vDwwnxs0dBjhx4gxDh+ujrKxMwYLKFCpYEBXV0tTWrEW9urWpXbtWuofZSutNHD12mqG6gxk/7tcLuARBSEqEq5ApeXp6ykI14Xloq1at0NPTY9iwYdL2dBUVHc0g3aEEB4eyzGIOTRrXl7ZkSFeu3sJ0zhJUVVWw37NL7IQjCCkgFjQJmcqhQ4fo3r07mpqarFy5koiICMaOHcv169dxdXXNcMEKkDdPHiYbTAJgxZpNvPvwQdqS4YS9fcdK640ATDaYKIJVEFJIXLkKGd6rV6+wtbVl586dvHz5EoDatWujp6fHiBEjMs32ZzZrN2C//wBNGtdnmcUcaTlDmWo0j9t3HojbwYLwl0S4ChnWuXPnsLW1Zf/+/bJjgwYNQk9Pj/bt2yfpzSxmGJty7foNunRqi5lJxlx5u3DJSs65XKJVyxYsNV8kLQuCkAwiXIUM5ePHj7Jnqe7ucXuVVqhQgeHDh6Onp5fi1boZTWRkJIZTpuP5+AldO7fH1NhA2pKuFlus5uy5CxRULsDRwwfImzdt3qUVBEUjwlXIENzc3NixYwc7d+4kJiYGgK5du6Knp0efPn2k7ZnSzZs3OXToEEeOHKVOvQYEvgmiVYsmzJ01jdy5c0nb01RkZBQLzVdx9Zob8I27t92oVrUqNjY2tGjRQtouCMIfiHAV0lXCVeqVK1cAKFasGHp6eujp6VGtWjVpe6Zz8+ZNjh49yoEDB/Dz8wMgX758vHjxgkVLlnL7zl0qVtTAeNoEqlerLD09Tbg/fMzylRvweelH40YNmTNrJjNnzmT79u0ALFmyBBMTE+lpgiD8hghXIc09fvyYnTt3YmtrS2hoKMSPFRwxYgR6enrS9kzHzc2Nw4cPc+jQIXx9fQHIli0b3759A2DAgAHs3bsXEk1wAhirP5Qhg/sm+kipb+eeg2zdbgdAn97azJg2RVaztbXF0NCQyMhIunXrhrW1NeXKlUt0tiAIvyLCVUgzR48exdbWlpMnTwKQI0cOWaA2btxY2p6p3Llzh4MHD3Lo0CHZiubEgZrYgQMHktzqPnbckdXWNsTEfKFq5UoMHzqAFs0bJTlH3i5evsGu3Qd45uVNnjx5mDrZgB7du0rbePbsGYaGhjg7O1OkSBGsra0ZNGiQtE0QBAkRrkKqCggIkL1G8+LFCwBq1aolu/VbqFAh6SmZxu3btzl06FCyAjVBvnz5CA4OJk+ePEmOvw4IYNPmrTi7xO0+U7dOTXr17EK7Ns2T9P0rZ9dLHDt+hgcengB07NCecWP0/zhveeHChSxcuBCA8ePHY2NjI20RBCEREa5CqnBxccHW1hZ7e3vZsQEDBqCnp0fHjnG7xWRGMTExmJubY2dnh4+Pj7T8R4MGDWL37t3SwzI3brpht3cfd+7eA6BkyeK0bd2cFk0bUqdOTWl7sty958GVa26cv3iN0NC4rfMaNmzAkEE6NGyY/GlRLi4uGBoa8vTpUzQ1NbGxsaF5c/mGvyAoChGuyRQT84UPHz4QGRXJt6/fyJEjBwUK5E/RDimKLjw8XLZA6f79+wCUK1dOthuNurq69JRMKSIigtOnT3P8+HGOHz9OZGSktOWXjhw5Qs+ePaWHf3Dn7j1OnDzFWSdn2bG8efNQo0ZVKlXQQF1dlVIlilOocEHy5MrNd77zOeYLH95/ICgklFd+ATx/4Y3n46dERX0GQElJiU4dO9Cje1fq1qmd6P8t+aKiojA0NGTHjh0AmJubY2xsLG0ThCxPhOtPfPjwkbv37vHwoSfPnj/H1/cVoWFxC2+klJSUUFVVpUJ5DapWqYymZi3q16srbVNot2/floVqdHQ0AJ06dWLEiBH069dP2q5QYmJicHZ25tixYxw5coT3799LW2QKFChAUFAQuXP/f2ecPwkPj+DS5SvcdLvF3Xv3CAuLm6OcXCWKF6du3do0adyIVi1bJGvv2uTYsWMHhoaGREVF0b17d2xsbBTmmydBkAcRrvEio6JwcnLm/IWL3Lp9J0ktX74CFC1RGuXCRciTNy/ZsmUnNjaWyIhwPr4LIzQ4gK+xsf/vz5uXli2b065tW1q2aJbkYymS3bt3Y2try8WLFwEoXLiwbIFSjRo1pO0K7+vXr4wePZpdu3ZJSwAMGTIEW1tb6eEU8X/9Gh+fl7zy9ycs7C0fP37k8+e4K9PcuXNTULkgxYsXQ11NjfIVNCijqir9EHLz9OlTDA0NcXFxoWjRotjY2DBw4EBpmyBkSVk+XAMCAjl4+AhHjznIhheoqGtQrXZDKlatTblKVSha/M/7aAb4efPy+WOeed7n8b2bfPoYdwWjpqZG397aDOjfFyUlJelpmc6zZ89kr9EEBQUB0LRpU9kCpezZs0tPyTIWLVrEggULKFasGG/fvuX796T/tI4ePUqPHr/eMD2zSrzYacKECVhbW0tbBCHLybLhGhUdzbbttuy1j5tbmzd/fpq27Uajlh0oW/Hf9wB1v32VW5ecuHMtbvVniRIlGDF8KL20M+cX1+PHj2Nra4ujoyPEr4pNCNRmzRT36jy5EgKmRIkSODo6YmRkxOXLl2X1AgUKEBISQs6cOZOcpyicnZ0xMDDg+fPn1K5dm7Vr19K0aVNpmyBkGVkyXM85u2C9diNhYaEoFyyEVs9BtOnen5w55P+FLzjwFS6OB7jsdByA+vXqYjBpApX/qyRtzXDevHkje43m+fPnAFSvXl22G41YzBUnIVhLliyJg4MDDRo0YMOGDRgY/H9u8LBhw2QTjxRVZGQkhoaGslvfS5cuZcaMGdI2QcgSsly4LluxiqPHHABo130APXRGkTtP6g8nf+XzHEf7rTy8ex2A6VMn07dPL2lbhnDhwgVsbW3Zs2eP7Fi/fv3Q09Ojc+fOSXqzup8FK0BQUBBqamqyW8MODg507frjkAZFtH37dgwMDPj8+TM9e/bE2toaNTU1aZsgKLQsE65vgoKYv3AJ7u4eqKhrMGDUFKrUrCdtS3UXTx9h/7bVAPTt04vpUzPGtmNRUVGyFb937sQt6FJXV0dPT4/hw4ejoaEhPSXL+1WwJmjfvj0XL15U+FvCP/PkyRMMDAw4f/48xYsXx9ramgEDBkjbBEFhZYlw9fJ6wUyzuQQEBtCgWTuGTjIlZ67kvw4hby+9HrN7nQWBr17Stk1rliyaL21JM/fu3ZOFakREBAAdOnRAT09PrPz8jT8FK8DmzZuZMGECI0eOZPPmzdJyljB//nwWL14MwKRJk1i9Ou4bS0FQdAofrt7ePkyeZkxYWCjtuw+kr95EaUu6iPj0ga0r5vH04V1atmiOpUXcF6C0Ymdnh62tLefPxy24KliwoOxZaq1ataTtQiLJCVaAd+/eUbp0aRwcHOjUqZO0nGU4OTlhaGiIl5cXdevWxcbGhiZNmkjbBEGhKHS4hoaGMsFgKv7+/nTuO5Seg0ZLW9LV92/fWGdujOd9Nzp37MDcOWbSFrny8vKSvUYTGBgIQKNGjWTvpmal25Z/K3GwOjo6Ur/+78cHDhw4kL1792bpV5SIn2plYGAgewfY0tKS6dOnS9sEQWEodLhOmjyNu3fv0bZbP/qPMJSWM4TYLzGsnjcZ72eP0Bs+lDH6I6Ut/+zEiRPY2tpy7Ngx2bGE12jERtjJl9JgBQgJCaFEiRLSw1nW1q1bMTQ0JCYmBm1tbaytrSlTpoy0TRAyPYUNV+u169m3/yB1GrdijFHa3nJNqbDgN6yYNZ7378IwX7yANq1bSVtSLCQkRPYazZMnTwCoVq0aw4cPR09Pj+LFi0tPEX4jIVhLlSqFg4NDsoJV+DlPT08MDQ25cOECJUqUwNramv79+0vbBCFTU8hwvXLlGsamsyheSoWZVlvJl19Z2pLheNy5xgaLmRQrWgy73dspWLCgtCVZLl++LAvVBL1790ZPT49u3bol6RWSRwRr6pg3bx5LliwBwMDAgFWrVklbBCHTyiY9oAjWbYhbmdlvxORMEawAteo3o4P2IMLehrFh01Zp+bdiYmLYtGkTTZs2pW3btuzcuRNVVVXMzMx49uwZBw8eFMH6l0Swpp4FCxZw8uRJKlasiI2NDY0aNeLmzZvSNkHIlBTuytV25242b91Os/bdGDLeRFrO8OYbDiY4wJ9N622oVev3+3c+ePBA9hrNp0+fAGjXrh0jRoxg0KBB0nYhhUSwpo1Pnz5haGgo2+fWysqKadOmSdsEIVNRqCvX8PAIdtvZo5QtG90HyH9hUFro2k8PgN12e6UlmX379tG5c2fq16+PjY0N3759Y9KkSdy+fRsnJycRrHIggjXtKCsrs2PHDjZs2EDOnDkxNjamX79+BAQESFsFIdNQqHA9dPgIUVFRaPXUoXCxzLlCs1GrjmhUqsqVq9d5+MhTdtzHx4f58+ejoaHBkCFDcHZ2pkGDBqxdu5agoCBWr15NnTp1knws4e8kDtbkrgoW/t3o0aO5c+cOrVu35tixYzRo0IBDhw5J2wQhU1Co28K9++oQFByE+abDmTZcAW5cOMOuteZ079aVurVrsmPHDo4cOSKrDx06FD09PVq3bp3kPOHfSYO1Xr20H5EpwNy5czE3NwfA0NCQlStXSlsEIUNTmHC9cvUaxjNn0bBlB0ZMniMtZzrGI3sS/vE9t29e49u3r1SuXJnhw4czYsQISpYsKW0X5GDBggUsWrQowwbrq1f+PH7yFG9vb175vyYkJISPHz/JNkvPkycPysoFKFmyJGpqZahYoTzVqlZFTS1zvkd65swZDA0N8fb2lj0CadSokbRNEDIkhQnXRUssOH3GiXEzLdBs0FxaznQObF/DhVOHKaScnwnjxyrkJtsZSUKwJowrzCjBeuv2HS5dusL1mzcICHgjLZMzZ05y546brBUdHUNsbKy0BbUyqjRp0pjWrVpSv15daTlD+/jxI4aGhrIdmpYtW8bUqVOlbYKQ4ShMuHburs2XL19Zseu0tPQHbzjeX4VF1wCqMeGiJyOlW63G3mN9i3psfwUUnMh2j7Vo5pD0yNkTjztYL5hKxw5azJ87S1oW5CijBWtkVBRHjx7H4cRJXr3yh/jN6evWqUnN6lX4778KqKupUqpkCfLnz5fk3PDwSIKCQ3jl/5rnXj54PHzMvfsPZXWNsup079Gdvr21yZ07/TavSKnNmzdjaGhIbGwsvXv3xsbGhtKlS0vbBCHDUIhw9Xz8BP0x46nbpBWjZ/zFNKbAbYxvoM8tgNrLcTg1HdVE5adLK6Br4wOUZ+QpbybUTlRMRVOHdCJ//rycOHZYWhLkJKMF685de7Cz3094eDgArVo0oV3b5rRo1pjcuXNJ25MlKuozV6/fxOX8Fa5cdYP4FbpDdHUYqjtY2p5hPXr0CAMDAy5dukSpUqWwsbGhT58+0jZByBCyz507N/32O5OTi5cuc/3GTZprdadC5d+/G/pTyvVoWvoye875QJATfhWn0KVqnrjag9mMnOzAJ0DVwJWV/VSkZ6ea54/u88rnBR202lOoUCFpWfhHGSlYL1y8zMxZs3E9f5HY2FgG9tNmzqwp9OrZmQrly5Ejx98P/s+ZMwcVypdDq11LOmm1QSmbEvfue3D79l1cXM9TsmRJypUtKz0twylZsiTDhw/ny5cvnDlzhoMHD/Lhw4csveOQkHEpxKs4Xi9eAFC2fGVpKdmK6W5lSvwV6dVpE3H9GH87eOwSAgCqLmbNjLR9XqVe/j8AvH18pCXhHyUO1vRevLRi5RrMZs/Fz8+fHt06cHDvZiaO10NVRf63PcuUKY3hxFEcst9C187teenrh4npbFZbr5W2ZliLFi3C0dERDQ0N1qxZQ5MmTbh9+7a0TRDSlUKEq5/fKwBKlyknLaVAeYasX04VgM97WbTMFfflfeOes1KXKZtmUT6Vn7NKlVbTgESfnyAf0mCtWzdtv2lK4Of3itFjJ3L46DHKqquxzGIOxtMnUrJk6m+qUKpUCUyNDbBcMgtVVRUOHDzMuImGvM4kgxu6dOnCnTt3GDx4MLdv36ZJkyasWbNG2iYI6UYhwjU4JIRcufOgXLiotJQyGtNZNj/uC+2n7e0ZaRN3xVhlth1DpIuc0kDR4nGv3ISEhEpLwl+aP39+hghWD4+HTDScwiNPTzpqtWb75pU0aZz2wyqaNW2I7ZZVtG/bAnd3DyYaTMbT87G0LUMqVKgQu3btYu3atWTLlo3p06czYMAAgoKCpK2CkOYUIlzfv/9AAWX5PJNUHX1YdnsY4hY4LR5dLdGBtKNcqAgA7z+8l5aEvzB//nwWL16MiopKugbrvXv3mTzNiLCwtwwf0p85ZlP/erGSPOTNm4f5c2YwZFBfgoNDmTzNCHd3D2lbhjVu3Dju3r1LixYtOHLkCPXr1+fo0aPSNkFIUwoRrtHR0eTKE78A6Z+VR7PZ/5915SpfnuJpfDs4Qa7ceQGIjo4bEiD8vcTB6uDgkG7B+uzZc0zMZhMdHc2EscPRH6krbUk3Y0cPZaz+UCIiIjAxm82LF97SlgyrZs2aXLhwARMTE968eUP//v0xMjKStglCmlGIcP327RtKSnL6VLyWsGjD/1/Wjzmmi+Xp5F05fjqnS9syulyVFv6SUjYliP/8hL+XUYL1/fsPzJ23kPDwCMaMGsKggb2lLeluyOC+jNIbxIcPH5k7fxHh4RHSlgxtyZIlHD9+nHLlyrFq1SqaNWvGnTt3pG2CkOrklEjpK1euXMTGxEgPp1zsY7aPnY0PQO1ZTOmXB4jmzMT41cO/EXasL/309hK38Zt8xH6J+5zS85ZhZpdRghVgqdVy/Pz96dunG0N1+0nLGYbesIH06tkZn5cvsbBcJi1neN26dePOnTsMGjQINzc3GjdujLW1tbRNEFKVQoRrQWVlIiP+PdZ8NvRl/RPiJjVZL2bIom00J2718GzTIz8NzpiXp1g/VIVOE48QJi3+o4jwuEQvUKCAtCQkQ0YK1r32+7l0+Qr16tZiyqTR0nKGM33KOGrXqs75CxfZfyDz7UxTuHBhdu/ejY2NDUpKSkybNg0dHR2Cg4OlrYKQKhQiXIsVL0ZE+Ec+R0dLS8nntYLZS+NWSaoa2MWNQCw4mLlW7QCIOTYKy3PS28OnWNi8G9td30C9WQyJa5Wb92EhAHyNjeXt27fSsvAbGWXxEsDLl76sXb+RHDlyMG3yWGk5XUVERPLmTRDPnnlx+8493r57J6tNjf+92qxdj7//60RnZR7jx4/nzp07NG/enEOHDtGgQQOOHTsmbRMEuVOIcFUrEzesMDjwL98HjX3MHsMZPAUoOAoTg/9/If7/cIn3nDGcyFXJ7eHcKn0Yuduba46LafiPbwJJBQfEzZVdt34dJUuWpHjx4tSvX5++ffsybdo01qxZw/Hjx3nw4AHv30uDP+uaN29ekmBN731ut263BWD8mGGUK6smLacZH5+X7Nptz7QZpmh16EGxEmUpWlydcuWrU6t2Y5q30OLe3Qey/ooVyjF+zDC+ff/O1u07knyszERTU5OLFy9ibGxMQEAA/fr1w9jYWNomCHKlELOFt9vuYuu2HQydZErTNl2k5T8K2FKPnvPvAXnovDWQxV0KJ23wWkL/1nHPYpUHnuTsyq787Cno1clKTD40mDWv7eJuJ/+jbSvnc+eaK6qlSxD0JhBfX18CfvOSf5EiRShXrhwaGhpoaGhQrlw52a/LlSuXJUYozps3jyVLlqCqqoqDg0O6B+vtO3cxnDKdKlUqsXXDcmk51Xl4PMJ+3yFOn3HC0/OJtAxAsaJFKVS4EIUKKrNu3Srq10v630xv9BRevHjJhnXW1NaslaSW2Zw4cQJDQ0P8/Pxo3LgxNjY26TqdS1BcChGu12/cZLrRTFp06MngsTOk5d97uQLd5vFXrR3sOG87GGVpD+A+pwgjt78HCqO9O5A57X589Ufe4TpnwgDeh4Vw0dWJbNnibjJERUXh6+uLr68vL1++xM/Pj5cvX8p+HhgYKP0wMsWKFfshcBOCuGzZshQsWFB6SqaS0YIVwMjEjKvXrrNwnhFtW8vjb0XyREVFM3+BOavXrJMdK126FP369aJWzRpUrFieShUroJKMEYvnXC6xcMlK2rRuifnihdJypvP27VsMDQ3Zt28fAKtWrcLAwEDaJgj/RCHCNSoqivYdu1JKVZ151nbScpqRZ7gGvnrJoqnDaFC/HtarV0jLvxQZGZkkdBMHsa+v72+n1xQvXvyHwE18FZyRF1ZlxGB99twLvZGjqVK5Ils3Jv/P8F/duXufgTrDZdvVjdAbwvDhujRt8vcbjQ/Xn4y3ty92u3dQXiNuLGdmt379egwNDQHo378/1tbWlChRQtomCH9FIcIVYPLUGdy6fQfTZdtkA+/TmjzD1emYHcf2bGLi+LHoDtaRlv9aREREkrCV/vx3qylLliz5Q+AmvgrOnz+/9JQ0kRrBGhMTw6JFi5g1axZ5/nJAifXa9ezbf5Bpk8fSWzvljyv+xrXrN+neox8REZFUq1aFLZvX0rDBv9/2PHTkBGvWbmWo7mDGj8v4q52T68GDBxgYGHDt2jXKlCmDtbU12tra0jZBSDGFCdfDR46yYpU1nXrroq2bPisy5RmuliZj8H3xhH17d1FWXV1aTjXh4eGywP3ZbeeQkLgVzD9TqlSpHwI3cQjny5d0Y295SI1gTaCnp8eNGzfYtWsXjRql/KpPu09/wsLectpxL/ny/l1Ap4Sf3yvq1GtGREQkvbS7s2f3VnLmzClt+ysfP32im/ZQVFRKc/iAvbSc6ZmamrJsWdw7vdOnT8fS0lLaIggpojDh+v79B7r26EXhoiUw35w+m4vLK1y9Hruzcs4k6teri82aldJyuvr48eNPr3gTfh4W9uu3fUuXLv3T284Jx1J6hZg4WB0dHaldW7672J87d44uXbqgpKTE9OnTmT9/frJ/jw/cPRg/0ZA2rZqyaL6JtJwqOnTsyaXLV9EbrsumjfIfmjBztjlXr7mxddN6qldPn3nbqcnR0RFDQ0NevXpFkyZNsLGxSddXuITMTWHCFcB86TJOnDyF7jhjmmt1l5ZTnbzCdfvqhdy+4sy8ObPo1FFLWs7QPnz48Mvg9fX1/e37uqqqqj/cdk4cwrlz55b1zp07F3Nz81QLVoCvX7+ipqYmu1qvWLEiu3fvTtZV7LbttmzbsROj6RPo2a2jtCx3GzduY/JUYzQ0yvHIw40cOeQ/EPvosdOstN7EuDH6DBuacWYiy1NYWBiGhobs378fgNWrVzNp0iRpmyD8kUKF65OnTxmpPw4VdQ3mrNolLac6eYSr74snWJqMIVu2bJgvmkerVq2kLZna+/fvf3vb+V2iIQZSZcqUoVy5cnz48IFHjx5RuHBhlixZQrt27dDQ0JDbLdDEpk6dio2NjezXSkpKGBkZMX/+fHLl+tkLWXES1gDs3bkedfW497BTk2qZ/wh7+5ZzZx1o1epv//b9nrePL8NHTaZZ0yYst7KQlhXKunXrmDx5MgADBgzAxsaGYsWKSdsE4ZcUKlwBFi4258zZc/TTm0S77gOk5VQlj3DdaGmG+60r+Lx4TkjwGyZPnoy5uXmSqzZF9vbt2ySBK736/fDhg/QUGTU1tSS3nROe9SYc+5uruVu3btG0aVPZr5WUlPj+/TuVK1dmz549v3xHskt3bZS+g+Ox1P8m7/adezRvoUXDBvW4cvmctCxXnXsMJm+evDgcy3wjEVPq/v37TJo0iRs3bqCmpoaNjQ09evSQtgnCTylcuL709WXwED1y58nDnNW7KVq8lLQlw7p50YmdNoupVbMGrVs2w8zMDH9/fzQ0NDA3N2fAgLT9ZiGjSbgVXKJECdmEHelt548ff73DQtmyZX962zkhgLNnzy49BYDKlSvj7f3j9mvZs2eXPYtNfBUbFvaWHr36UkezBjarlyQ5JzXMX2COxdIVLFwwGxPjqdKyXI2baMKjx085c/J4pn8vOrlmzpzJ8uVxA0BmzJjB0qVLpS2C8AOFC1eAHTt3s2Xrduo0bsUYo8XScob04X0Y5tNH8unDO9bZrKZundqEh4djZmbG+vXrAdDR0cHc3JyyZctKT1d4CcFapkwZHBwcfvmMNTQ09IfATXwVHB4eLj1FRrrSOeHnx44dY+3atdL2X17Fej5+gv6Y8XTp1BYzk7hbi6mpV59BnD7txL07V6levaq0LFcLFq/E2fUSO3ds5b9KFaVlheXg4ICBgQGvX7+madOmrF279pd/BwUBRQ1XgIkGU7h3/wHag8fQqc8QaTnD2WAxE48719AbPpQx+iOT1FxcXDA1NeXu3bvkzZsXc3PzLDVRJrnBmhwhISE/BG7iMI6I+Lv9S5WUlJg5cyZz5szh1u07GJmYMVinD+PHDJO2yl3LVh25feceURG/fk1KXqzXbePgYUdWr1xGo4YNpGWFFhoaioGBAQcPHgTA2tqaCRMmSNsEARQ5XF++9GXkmPFER0Uxauo86jdvL23JMA7Z2uB64iCNGjZg9cpf75+5ZMkS5s2bB0CbNm1YunQpDRoo9he4xMHq6OiIpqamtEWugoKCfgjcixcv8vhx3I5Jv5JwFVu1alUMJ0/Bdpcdo0fpMky3v7RV7qpWr8/bt28JfuMjLcndNlt7bHftx3zxAtq0VqzFdsm1du1apkyZAsDAgQOxsbGhaFE579ohZHoKsSvOz2holGPebFMAtq1awKO7N6QtGcKpg7acO74PVdUyzJ41U1pOYtasWdy/f58uXbpw4cIFmjRpwpw5c6RtCiOtg5X4QRiNGjWif//+GBkZMXXqVHx8fFBSUpK2JvH9e9z3qE+ePGHHjrgdZLJnT5t/Xm/fvk2z0ZQJz6VjY79KS1nGpEmTuHXrFo0bN2b//v3Ur1+fEydOSNuELC5t/vWnk9atWmI8YxoAG5bOxOPWVWlLujp5YAd2m1bw1NMDo2mGFE/GUv+aNWvi6OjIxo0bKVq0KBYWFmhqaircP+45c+Zgbm6OmppamgWr1Pfv39HV1SU6OloWnr9SrVo1lixZgo+PD4sWLQIgNvabtE3uYmNj+fDhIyWKF5eWUsXX2FiAv1p5rUjq1q3L1atXmTZtGq9evaJXr16YmZlJ24QsTKHDFaCXdg+mT53Mt2/f2GBpypVzDtKWdLF/yypOHthBZEQ44eGfmDUrZf8w9fX1efjwIXp6enh6etKrVy/GjBlDaGiotDXTmTNnDhYWFqipqeHg4JAuwQpgY2PD7du3pYdlVFRUmD59Onfv3sXDwwMTExPU1dVlM5bDw//u+W1KBAa+AaBkqbQZOB8eEQlA/vzyH2WZGVlZWXH48GFUVVWxsrKiVatWuLu7S9uELEjhwxWgb59ezIm/5bp303IObF8jbUkzwYGvWDN/ChfPHkVDQwPnc0706dOHCxcuMHjwYGn7b5UsWZKtW7dy9OhRqlWrxvbt26lRowbbtm2TtmYaGSVYX7x48dMrkfz58zNixAjOnTuHr68vlpaWP/weixYpAsDbt78eiCEv7u4PAShdqqS0lCrevn0P8XvACnG0tbW5c+cO/fr149q1a9SrV48NGzZI24QsJkuEK0CXzp1Yv3YNZcqU4cKpw1jMGMXjB7ekbanqwqnDLJk2gqcP79KqZQs2rbemYsUK2Nvb07JlSw4cOCCbCpMSPXr0wMPDg5kzZxIWFsbYsWPp2bMnjx49krZmaBklWBPfDgbImTMn2tra7N+/n+DgYLZs2ULbtm1le+xKlSoV9251YOCvt/eTFydnVwDq1ZXfhgW/ExAQd6VcKo3CPLMoUaIE+/btY+XKuFngBgYGDB069LcTxwTFprCrhX8lIiKC1dZrOXnqDACNWneiUy9dVNRTb49KjzvXcDqyhxdP464yJowbwxDdQUl63rx5g5aWFk+ePGH+/PnMnj07ST253NzcMDU15eLFiwAsXLjwp1dgGU1GCVbiX7GYNm0azZs3Z8iQIfTr148i8VejydWjV18+f47mtMNeaUmuqtVogLe3D74+npQunfoDU7S6DKBI4SIcORS30bjwo7t37zJp0iTc3NwoV64c1tbWdOvWTdomKLiff+utwPLnz88sUxPMFy9AQ0MDt4tnWTR1GDutF/P80X1p+z9xu3SOVXMN2GAxkxdPH9KyRXP27Nz+Q7ASv2OMvb09xYoVY/78+WzevFnakiyNGjXCxcWFlStXkidPHubOnUvjxo1xdY27wsmIMlKwhoeH8/37d7y9vbl48SKjR49OcbACVK1ShfDwSF54+0pLcnP2rDPe3j7Uqa2ZJsH67Lk3nz/HUKVKZWlJSKRevXpcu3aNqVOn4uvri7a2NrNmzZK2CQouy125Sh06fJR9+w8REBgAgKp6eTQbtaB6ncZUqpayL/KREeE8e3gXz/s3uX/jIuGf4kbx1a9Xl0E6A2jWtIn0lB+4urrSsWPcLioHDx6kd+/e0pZk8/X1xczMTLbDx8SJE7GwsEiVfVX/VuJgdXR0pFatWtKWTGnXnr1s3LSFKZNG07eP/K9aPn/+TPWaDfH3f82unZsZOKCvtEXu9h86ztr1OzCYNJ5BA7P2KM7kOnr0KIaGhgQGBtKiRQtsbGwU5u+48HtZPlwTnHN24czZc1y/cVN2LGfOXKhXqExptXIUK6mCcqEi5M2bD6Vs2Yj9EktUZDgf3oUR8uY1ga+8CfD7/0v8efLkoYNWO7p26UxtzZT9Y9q3bx9Dhgwhe/bsuLq60rz5324DEGf//v2YmZnh6+uLuro65ubmDBr049VzWps9ezZLly5VuGAFePzkKaNGj6NJ4/oss5Dvu8hfvnyhb/8hnD3rTKtWzTl3Nm1WwE81msftOw/YZbuVShWzzujDfxUcHIyBgQGHDx8mW7ZsWFtbM27cOGlbhvP582cCA9/w7t07wiMi+PLlC9myZSdfvrwULlyYUiVLUqhQ1pgv/TdEuEqEhIZy/fpN7ty9h7vHI4KC4hZwJEelShWprVmLRg0b0Kxpk18Ogk8OGxsbpk6dioqKCs7OzlSpUkXakiLR0dGYmZlhbR23iXa/fv0wNzenQoUK0tY0kRCs6urqODg4ZPpg/fbtG/7+/vj5+cm+iVm7YRP+/gE4HtlJ4cKFpKf8lc+fP6PdW4fz5y+hoVGOK5ed0uQd15CQMPoMHEV5jXKEBAVQsmRJGjZsSKNGjWjUqNE//V3PKtasWcP06dMBGDx4MNbW1hQuXFja9ktBQUGyxXKp4aWvL3fu3OOBuwdPnjzB/3Xc3bzfKVqkCJUr/0etmjWoX68umim8kFBkIlz/4N27d7x65c+boGDev39PZFQk375+I0eOHOQvkJ9iRYuhqlKasmXVyZMnj/T0f5IwoUhTUxMXF5e/evYndfHiRUxNTXFzcyNXrlyYm5vLRrmllcwYrJ8/f8bHx4fXr1/j7e3N69ev8fHx4dWrV7x8+ZLXr1/z9Wvc1KK8efPy6NEjzpw9h+2uPUwYp8egAb2kHzLFLl+5xoSJU3n2zAs1tTJcPH8aNbUy0rZUsWfvYTZt3Y3+SD2mTZ2cZAOE7NmzJwnahg0bUlFc2f7U7du3MTAw4NatW2hoaGBtbU3Xrl2lbT9la2tLsWLF5Lrt3du37zh95iznXFx59uy57Hj2bNmooKJCmeLFKF6oEAXy5iFntmx8+/6diM+fefcpnMCwMHyCgvkUGffuM0CJ4sVp164NnTt2yPLP5kW4ZnDjx49ny5YttG/fnrNnz0rLf23p0qWyFcktW7bEwsKCJk3+/Ez4X2X0YHVycuLx48cEBgbi5eUluxINCwuTtspky5aN79+/y6Y4LViwgFmzZuHn9wod3WGUVS+D3c510tOS7fKVa2zbtgv7fXED4wfp9Gf58iXJmuglLwN1xxEQ+IbDB+wpVaokt27d4ubNm9y6dQs3NzdevHiRpF9VVZWGDRsmCd20GtGYGcyYMYPVq1dD/JZ2ixf/efeumTNn4ujoiIeHxy9fA0suXz8/Dhw8zNFj/3+kUKdiBZpVr0a9/ypRU6PcH0d+JngZFMx9Ly9uPHnKJfeHfP0WN5msaZPGDOjfl8aNGkpPyRJEuGYCffv25fjx4wwaNIjdu3dLy3/t8ePHmJmZ4ejoCICRkRHm5ubJ/keVUhk9WAFev36NsbGxbBFYSigpKVGmTBmePHkiu4sxb8Fizjm7MNNoEt26aElP+UFAQCBeXt54vfDm4SNPDuw/Qkj81C1VVRU2bVhDx45puwnFccezLF+1gS6dOzJnVty8bqk3b97g5uaWJHQ/ffqUpKd27do0btxYFrg1atRIUs9qjhw5gqGhIW/evKFly5asXbv2t/9NevXqxYkTJ9i9e/dfr5mIjo5m67Yd7N13AIBihQrSq2kTujZqiFqJf3+8EPU5hrO3b+Nw/SaPfP0AaNmiOfqj9PivUiVpu0IT4ZoJxMTEoKWlxbVr1zA0NJS9qC4vO3bswMzMjJCQEKpUqYK5uTna2trStn+SGYI1sStXrjBhwgQ8PT2lpd86cOAAffr0kf06YW9XNTVV7HfF7cub4PoNN6ZONeH9h498eP+Bt78YONCxY3uGDxtMv77/fms5pb5//84A3bG8eROc4j1c3d3dZUF78+bNH4aaFClS5IfbySVKpM0Yx4zizZs3GBoacuTIEbJnz461tTVjx46VtgFQuXJlvL29KV++PE+ePEnxc+7zFy5ibb2OoJAQiigrM7xDewa1bS1tk5uL7h7sdnbFw+clAPqjRjBSL/W3YMwoRLhmEq9fv0ZLS4vnz5+zaNEiTE1/fgXxt96+fYuZmRlbt24FYNiwYZibm1O6dGlpa4olDlZHR0dq1qwpbcmQvn37xubNm5k7dy5v376Vln/QsmVLzp8/Lz2MheUyHE+cYsRwHUYO15EdP3nyDH366SbpLVhQmTq1Nalbtza1a9eiXdtWqKj8+5/B39q8bQ+77Q7Rp7c2M6b927P59+/f/3A7OSQk6R60VapUkQVto0aNFH5LxQSrV69mxowZAOjq6mJjY0PBgv9fiRsTE5PkFbp169b9MoR/xmbdBuzjr1Z12rRmXI+u5M2VS9qWKg5dvsI6h5NERkfTqGEDZprMoHQqLszKKES4ZiL3799HS0uL9+/fs3HjRvT19aUt/+z06dOYmpry8OFDChUqhLm5eYr+EUvNmjULS0vLTBesib1794558+axYcOG3+6O8+DBg5/e1gsJDWWQ7nAiIyPZuM6SGtX+beV3Wnng4cmkyWYULFgQe7udFEnBytbkevr0Kbdu3ZKFrnSjhDx58vxwdVu2bNkkPYri1q1bGBgYcPv2bcqXL4+NjQ2dO3eG+LsA9erVk/WqqKjw/PnzPy6iDA+PYN6CRVy/cRPV4sUw6t+XZtWrSdtS3Zu3b1l28AhXHj6iRPHiLJg/hzq1UzZHILPJPnfu3PnSg0LGVLp0aerWrYudnR0nTpygTp06//yKjtR///3HuHHj+Pr1K+fOnePUqVPcvHmTWrVqpfg1gIRgLVu2bKYNVuJX/164cIFr165JSzITJkxg+PDh0sMA5M+Xj8KFC3Pl6jWePfOmR7cOqfZcW15iYr5gNsecd+8/YDR9Kpq1UufPrnjx4mhqatKlSxf09fUxMTGhY8eOVKtWjcKFC/P+/Xs8PDy4fv06hw4dYs2aNezcuZPr16/j6+vLt2/fKFWqlEJsgVemTBn09fX58OEDZ86cYe/evXz58oV27dpx/vx5jhw5IusNDw+nYMGCNGvWLMnHSCwkJITpRjO5/+ABzapXY9W4MfxXRlXaliYK5M1Lpwb1+BIby7WHjzh9xonKlf+jbFl1aavCEFeumdDevXsZNmwYuXLlwtXVNdVW+d69exdTU1NcXFwg/tWguXPnStt+KnGwOjg4ZNpgPXPmDMbGxnh6eqKqqkqBAgV49uyZrK6kpETBggXx8vL646tSSyysOHnqNB21WjPHbKq0nKHMW7gM1wtX0e7ZAxOjuD2R04ufn5/sNnLCoqmETRUSNGjQQLZYqmHDhnL/pjOtHT58GAMDA4KDg2nVqhXVqlVj06ZNsnrC3zs/Pz/ZFoeJvXv3jqnTjHjm9YIeTRozW/f/jyPS24GLl1lxKO4bhRXLltK0SWNpi0IQ4ZpJJTyjUVNTw9nZmUqpuBJv/fr1mJmZER4eTp06dbCwsKBDhw7SNhlFCNbPnz9jbGzMunVxr9CMHDkSKysrDAwMsLe3T9K7Zs0aJk6cmOTYz3z79o1xEwx4+MiTgf21mTR+hLQlQ1i9dguHj5ykTm1N1q9Nv+0Zf+f27duyoHVzc+Pp06dJ6glDLho2bCgL3ZQMbMgIAgMDMTQ05OjRoygpKf30kcSvvuGdaDCFe/cfoN2sCWaDBkrL6e7o1ess3XeAXLlysX7tGqpXqyptyfREuGZiCQuF6tSpg6ura5IFEPLm7++PmZkZe/fG7fIybtw4zM3Nf/j/VIRgPXbsGMbGxrKVmVZWVrIZzwn/zRNUq1aN+/fvJ3vl5ps3QRhOnoZ/QACDdfowfkzGWj1ps347Bw45UFZdHZs1KzLN6t2QkJAkV7dubm68fx+392yCGjVqyIK2cePG6bpBRGKfP38mV65cP31U4OPjw8CBA7l79660hJKSEvny5cPLyyvJn9MSc0tOnj5D+7p1MB/580cVGYGd6wWsjx6nnLo6mzevR1nB3oMW4ZrJjRkzhu3bt9OxY0dOnTolLcvd4cOHMTMz48WLF6ioqGBubs7QoUNBAYL1w4cPGBsbyzabnzBhAlZWVkkWjWzatCnJVaqLiwutW6fsdQZvHx9mGJvy5k0QPbt3wmjaeGlLuli6zIaTp11QU1XFysocjXLlpC2ZyqNHj5K8e/vgwYMkdWVl5SRXto0aNZLL6viUio2NZdCgQezYsUM2aOP169csWLCAnTt3yiZ//cqUKVNYvnw5xG9EsnK1NVXLqrN9+hSy/+OwidS2/OBhDl66glb7diycL98Z3OlNhKsC6N27N46OjgwZMgRbW1tpWe5iY2MxMzOTvW/bu3dvihcvzpYtW2SLl362ajYj27dvHyYmJrx+/Zpq1aphZWVFly5dpG2cOnWKnj17QvznffBg3NSklPL182P23AW8eOFNg/q1MZk+kdKl02cD8tev37B0xTru3/egcuX/WLxwHmpl0masYloKDw9P8tzWzc2NwMDAJD2VKlX64Xbyv05DSo7OnTvj7+/Pjh072LVrF1u3buXLly/Sth8oKSmRPXt2vLy8iI39iu6wEXz//p1dxtOpoq4mbc+Q9FeuwcPnJSbG09Hu0V1azrREuCqA6Oho2rdvz82bN5k6dSrLli2TtqSKK1euYGpqyvXr1wEoXLgwFy9ezFTBGhQUhImJCXv27AFg2rRpWFpa/vQWHfFXQ7Vr1yZXrlw8fvyYcv9wdfcpPJzFS5Zy+cpVlJXzM2n8SLp2TtvpS44nz2GzfhtRUdG0adOKOWYzyZs3r7RNYb148eKH28nf4sf3AeTIkeOHq9vy5csn+RjykDBH/G/p6+tTuGgJLl2+gmHvnui2ayttybAe+foxcvkqlAsU4MA+O4XZaUeEq4Lw8/OjQ4cOvHjxAnNzc4yNjaUtqcLMzAwrKyvZr5s2bYqFhQUtWrRI0pcR7dy5E2NjY8LCwqhTpw5WVla0a9dO2pZEVFQUysrKzJo1iwULFkjLf2WH7S62bNsBQNMmDRgxbCDVqv4nbZOrh55Psd21n5tucc/yxo4exfBhQ6RtWU5sbKwsbBP+19vbO0lPmTJlkrx726hRo3/eI3nZsmVJBsNky5YtScgnHCN+YZxU0WLFqVS5GprlNdgybbK0nOGtdzzJTidnBg7ox2SDPy8OzAxEuCqQu3fv0r59ez59+sSWLVsYMSJ1V6MmBGu5cuWwsbFh+/btHDt2DOKvAM3NzTPk+4d+fn4YGxtz6NAhAExNTVm0aJG07Zdq1KjBrVu3/vkLamIeDx+xcdMW7t2Pey6o1a4VvbU7o1mrurT1n9x78JBjx0/jeuEqAPXr1WX82NFUT4fBAplFQEBAkrB1c3MjIiIiSU/dunWTTJaqXj1lf26xsbEULlw4yStGvXr1QkdHhydPnvDkyRM8PT15+vQpnz9/TnIuQE3NuuTLX4DV48fQNBP+WX6JjaXnvEW8/fiRg/vsKJNO7+PKkwhXBXPmzBm6d497bnH8+HG6desmbZGLxMHq4OAguxW8e/duzMzMCAwMpGLFipibm9O3b1/p6elm06ZNGBsbExERQePGjVm2bNlvX8T/mQcPHlC7dm3pYbk4ceo0dnv34Rs/9Lxa1f9o17YFLZo2Qk1NRdqeLH6vXnP1mhuu56/w5Fnc7jXlNTQYoqtDl86dpO1CMty/fz/JrWTpDOqiRYv+cDu52B92MerUqZPsnfIEDRo0wMHBgZIl457Hf/v2DW9vb548ecKjR4/igvfpM5Sy56JJtaqsmfD309TS225nV9Yed2SwzkAmTcz4m8n/iQhXBbR7925GjBhB3rx5cXFxoVGjRtKWf/KrYE3w8eNHzMzM2LhxI8TPSjU3N6dMOi6SefbsGcbGxpw4cQKA+fPny7bcy4jOOjnjePIkd+/elx0rq16GmjWqUKliedTVVClVqgSFChYkd+64GbGfP8fw/sNHgoNC8PN/zXMvbx49fsarV//f9LpB/Xr06N6VDlpp+2xX0b19+/aH28mh8bsZJahWrVqS28mJxxkCmJub//SdVRUVFRwdHalTp460BIDZ7LlcuHiZZWP0aVUr86x3kIqOiaGT6Wyy58jJ6ZPHM+Rdr5QQ4aqgVqxYgYmJCeXKlcPZ2VluizD+FKyJOTk5YWpqyoMHDyhQoADm5uZMmDBB2pbq1qxZg4mJCbGxsbRu3Zply5b98IUto3r50pdLl69w/cZNHrh7SMvJUrdObZo0aUyrls0pp6BzeTOiJ0+eJAnbO3fuJKnnzZs3yXNbgP79+yfpSZA7d2527txJv379khwPDQujZ69+qJcswaE5ZklqmZHVgUMcvnyVubNN6dypo7ScqYhwVWCmpqYsW7aM+vXr4+Li8s+bVackWBNbuHAhCxcuBKB9+/ZYWFikSbh5eHhgbGzMuXPnIH6D+ISdRzKj6Ohonjx9hre3N/6vAwgJCeXjx4+yZ3C5c+emYEFlSpYsSZkyqlSsUIFqVauQK412PxF+Lyoq6ocxjq9evUrS86tJTAmMjY1ZvHixbHHT0WMOLFuxihGdOjCue1dpe6Zz1+sF49espXWrllgsifuakVmJcFVwo0aNYufOnXTp0kW2KfrfSBysjo6OKV6w4e7ujqmpKWfPnoX4SUfz56fenhGWlpbMmjUL4p9lLVu2LMW/Z0FIbS9fvuRW/K5AJ06cSDK3+lc6d+7M3r17KViwIMYzZ3Hl6jV2zJhK9XKKcVei2+z5fIiM5LzzmTR5xzi1ZN7fuZAs27Zto2vXrpw+fZqRI0dKy8liamqKlZUVGhoafxWsAJqampw8eZJ169ZRqFAhFi9eTJ06dTh9+rS09Z/cunWLtm3bMmvWLHLlysXq1as5efLkX/2eBSG1aWho0L9/fwYNGoSfX9witj85c+YMTZs2xcvLi3v3H1BEWVlhghWgQeX/+PLly18/BskoRLhmAfb29jRo0IBdu3Yxc+ZMafm3Em4ta2ho4ODg8M8hNXbsWB49esSwYcN4+PAhPXr0YNy4ccnajPxPFi5cSNOmTbl8+TLa2tq4u7szadIkaZsgZCihoaH07dv3h51+fufp06e0bduOiIgIamn8/SCTjEizggYAnp6PpaVMRYRrFpA/f37s7e3R0NBg+fLlrFixQtryU/IO1gSlS5dm+/btHD58mCpVqrB161Zq1qz516Mbr1y5QtOmTVm4cCEFCxZkw4YNHD58OFV3ChIEefj69Sv9+/dP1lWrkpIS9evXZ+rUqRw9epR16zcAUDmTjDlMripqcW8VvPD2kZYyFRGuWUT58uWxt7cnX758mJiYsGvXLmlLEqkVrIlpa2vz8OFDjIyMCA4ORl9fn969e/P4cfK/Y501axZt2rTh1q1bDBgwAHd3d0aPHi1tE4QMafr06Vy+fBniwzOxnDlz0qJFC8zMzDh16hTv3r3j5s2bLFu2jB49eshe9SlboniS8zK7cvHv9Pr7+0tLmYoI1yykYcOGsr1IR44cyZkzZ6QtkEbBmkBJSQkLCwuuXLlCy5YtcXR0pFatWlhaWkpbk3B2dqZu3bpYWlpSokQJduzYwd69e1FTU6zv4gXFtWvXLtauXSv7de7cudHS0mLevHm4urry/v17Lly4wMKFC+nYseMPq/1DQsMAKF2kSJLjmZ1yvnzkz5OHEMl7wpmNCNcsplu3bmzduhUAHR2dH969S8tgTaxJkyacP3+e5cuXkzNnTmbNmkWzZs24ePFikr6vX78yffp0OnfujIeHB8OGDcPDw0O27Z0gZAa3bt1i5syZdOnSRfbN5YcPHzhz5gxz5syhVatW5M6dW3paEh8/fgSgUP780lKmVyh/Pj58iPv8MisRrlmQnp4e5ubmhIeHJ1mlmF7BmtiUKVN49OgR/fr1w83Njfbt2zNt2jSio6M5ceIEmpqarFmzBnV1dezt7dm+fTvFiyvWbTFB8amoqPD69WscHR0xMjKiSZMmZM+eXdr2WwnvN+fJlVNayvRy58r10xnKmYkI1yzK2NiYadOm4e3tjY6ODjNmzEj3YE1QoUIF9u3bx+7du1FXV8fa2hoVFRV69erF06dPGTNmDO7u7r+cZiMIGZ2amtoPz1gFxSLCNQuzsrJiyJAhuLm5sXr1asqXL5/uwZrYoEGDWLJkCcrKynz69AmAFi1aYGJigrKysrRdELKUhNvG0TF/3lQ9s/kcE/PH2+IZnQjXLK506dKyn9epUyfDBOvbt2/R19dn2LBhfPr0id69e1OvXj2uXLlCjRo1sLa2lp4iCFlKwYJxm4p/kGx/pwg+RERm+k3TRbhmYTNnzmT58uWUK1eOatWqcfToUdnIwPRkZ2dHrVq1sLW1pWbNmpw6dYqDBw/i5ubGwoULiY6OZtq0aWhpaXHr1i3p6YKQJZQoHreF3Zt376SlTO1TZCQR0dGUyORrKUS4ZlEJwVq+fHkcHR05duwY6urqWFpasmrVKml7mggICGDIkCEMHz6coKAgjIyMuH//Ph07/n93DDMzMx48eEDXrl25cOECTZs2zdBbxwnCz0RGRjJnzhzWr1/PtWvXfth8PTkSXjvzC8ncr6xI+QYHQ6LPL7MS4ZoFJQ7W48ePU716dSpWrIi9vT25c+fGyMgIOzs76Wmpatu2bWhqarJv3z7q16+Pq6srFhYW0jYAatSogYODA5s2baJYsWIsXboUTU1N2V6tgpDR5cuXj4EDB8peuylcuDDVqlVDR0eHpUuXcvbsWYLjQ+ZXKlaI20by2avMPWxB6qn/a0j0+WVWYlecLCZxsDo4OFCtWrUkdUdHR3r37g3A6dOn6dChQ5K6vHl7e2NiYsLRo0cBmDNnDvPmzZO2/VJoaChmZmZs374dgBEjRmBubk6JEiWkrYKQ4dy4cQMtLa1fzhUuVaoUtWvXpm7dutSpUwdNTU0qV64sW2ncoXN3cmXLxhnzzL09W2Lzdtlx5tZt1tmspm6d2tJypiHCNQsxMTFhxYoVvwzWBNu2bWPs2LEUKlQIFxcX6tSpI22Ri3Xr1mFiYkJ0dDTNmzdn2bJlsk2jU+rEiROYmZnh6elJ0aJFMTc3R19fX9omCBnO2bNn6dGjB9++fZOWyJYtG9+/f0+yx2vevHllgRsc+o5X/q/FlnMZkAjXLCIhWCtUqMDx48d/GawJli5dyuzZs6lUqRLOzs5yff7h6emJiYmJbLu5xYsXp3i3nl+ZM2eO7HZy165dsbCwSPam7hmd2Cxdce3fvx9dXV3p4T/SHz0W94eeYrP0DEiEaxaQ0mBNMH36dNasWUPTpk1xcXGRyxfplStXYmxsDED79u2xsrKidm353vq5ffs2pqamnD9/HoAFCxZkiFXQf+PlS18uXb7C9Rs3/3p/y7p1atOkSWNatWxOubKKcXWjiDZt2sTEiROlh39KSUmJDRs20Kt3b3r26od6yRIcmmMmbct0rA4c4vDlq8ydbUrnTv9fyJgZiXBVcH8brAmGDRvG3r170dbW5vDhw9Jyst2/fx8jIyPOnz9PtmzZsLS0ZOrUqdI2ubKxscHMzIyoqCjq1auHhYUF7du3l7ZlSGednHE8eZK7d+/LjpVVL0PNGlWoVLE86mqqlCpVgkIFC5I7d9w3PZ8/x/D+w0eCg0Lw83/Ncy9vHj1+xqtXAbKP0aB+PXp070oHrczx3yGriI6OxsnJCQsLiz++XpYjRw727NlDv379ADCbPZcLFy+zbIw+rWpl3rs00TExdDKdTfYcOTl98jg5cuSQtmQqIlwV2L8Ga4LOnTvj7OyMvr4+GzdulJb/yNzcnLlz50L8rVorKyuqVq0qbUsVfn5+mJmZsW/fPgAmTpyIubk5+TPosPMTp05jt3cfvr5x856rVf2Pdm1b0KJpI9TUVKTtyeL36jVXr7nhev4KT569AKC8hgZDdHXo0rmTtF1II0+ePMHJyUn242fPXKXy5s2Lg4MDbdu2lR27fuMm041m0qRaVdZMGJukPzPZ7ezK2uOODNYZyKSJ46TlTEeEq4KSV7ACvHv3Di0tLR48eICZmRkLFybvWciNGzcwMjLi+vXr5M2bFysrK8aPHy9tSxMHDx7E1NSUly9foqamhrm5OYMHD5a2/VFwcDAl4/eblCePh4/YuGkL9+4/AECrXSt6a3dGs5Z8J2bde/CQY8dP43rhKgD169Vl/NjRVK/+938/hOT59u2bLEjPnTuXZN9iDQ0NOnbsSL169Rg37ufBUrRoUZycnH66wHDs+El4PHzE6vFjaJoJ/yy/xMbSc94i3n78yMF9dpQpoyptyXREuCqgxMHq4OAgl6vEZ8+eoaWlRUBAACtXrsTQ0FDaksS8efNYsmQJAH369MHKygoNDQ1pW5r6/PkzZmZmrFmzBoB+/fphbm5OhQoVpK2/pK2tzaFDh8iZU347keyw3cWWbTsAaNqkASOGDaRa1f+kbXL10PMptrv2c9PtLgBjR49i+LAh0jbhH3l7eye5Ok38yk2bNm3o0KEDnTp1kgXmiRMn6NWrV6KPEEdNTQ1nZ2cqVaokLQFw+cpVTExno1legy3TJkvLGd56x5PsdHJm4IB+TDZI3nPnjE6Eq4IxNjZm5cqVcg3WBFevXkVLS4svX76wZ88edHR0pC1cuHABY2Nj7t69S5EiRbCysmLEiBHStnR16dIlTE1NuXnzJjlz5sTc3DzZz39LlCjB5MmT5TIV6lN4OIuXLOXylasoK+dn0viRdO2cts9CHU+ew2b9NqKiomnTphVzzGaSN29eaZuQAq6urpw7d46zZ8/i7u4uO66qqkrHjh3p2LEjHTp0oMhPNjlP/AglQZUqVXB2dkZF5fePBWaazeHS5SsY9u6Jbrv/3zbO6B75+jFy+SqUCxTgwD67TD9TOIEIVwWSEKwVK1bk+PHjcg3WBMeOHZMtpDh79mySBUIJAyoABg8ejKWl5R+/IKQnS0tL2SriFi1aYGFhQdOmTaVtMp8/fyZ//vzkzp2bhw8fUr7830+Q8fXzY/bcBbx44U2D+rUxmT6R0qXlf7s5OV6/fsPSFeu4f9+DypX/Y/HCeaiVKSNtE37B398/ydVpwibmAE2bNqVjx4506tQpWe9w6+jocOjQIdmvGzZsyKlTp34axFIvX/qiO2wE379/Z5fxdKqoy+/1udSkv3INHj4vMTGejnaP7tJypiXCVUGkRbAm2Lx5MxMmTKBo0aK4uLgQEBCAkZERnp6eqKioYGlp+VfPM9PDkydPMDMzw8HBAQAjIyPMzc1/utemt7c3lStXhvhFXn87btHbx4cZxqa8eRNEz+6dMJqWPs+hpZYus+HkaRfUVFWxsjJHo1w5aYsQ7+rVqzg5OXH27Flu374tO168eHHZlWnHjh0pVapUkvP+pGrVqnh5eQHQoUMHjhw5kqI7CYcOH2XlamuqllVn+/QpZM/gQxiWHzzMwUtX0GrfjoXz50jLmZoIVwWQlsGaYMmSJcybN48iRYrwLn5XjpEjR2JpaZms77Izmp07d2JmZkZQUBCVK1fG3Nz8h2dfV69epXXr1rJfHzx4UDYqMrnevAnCcPI0/AMCGKzTh/Fjhklb0pXN+u0cOORAubLqWK9eIcZIxgsODpYtRHJyciIkJERWq1+/Pp06daJjx460aNEiyXkpERERQeHChfn+/TuDBg1ix44df/U6yhJzS06ePkP7unUwHzlcWs4w7FwvYH30OOXU1dm8eT3KBQpIWzI1Ea6ZXHoEK8Dx48cZOXIkHz58IE+ePNja2spuF2dW7969w8zMjC1btgAwdOhQzM3NZbe2Dx06lOQ5s5qaGo8fP072lcW3b98YN8GAh488Gdhfm0njM9az6ASr127h8JGT1Kmtyfq1cYu/sqJbt25x9uxZnJycuHbtmuy4srKy7Nlpx44dUVdXT3Le37px4wYtWrRAX1+fDRs2/PTuye+8efMGFxcXXF1d8XsVQERUNNrNmmA2aKC0Nd0dvXqdpfsOkCtXLtavXUP1amnzdSstiXDNxNIjWD9+/IixsTFbt24FoFKlSnh5edG7d28OHjwobc+Uzpw5g6mpKR4eHhQqVAhzc3PGjh2LjY3NDwufZsyYwdKlS5Mc+5UlFlacPHWajlqtmWOWvAVU6WXewmW4XriKds8emBhNk5YV0vv372VXpk5OTrx+Hbc7C0CtWrVkYZpag0g2btxIaGhoshfLvX//nvPnz+Pi4sKFCxd48uSJrLZ582YuXb7GM68X9GjSmNm6Py4+TC8HLl5mxaEjAKxYtpSmTRpLWxSCCNdMKj2Cdf/+/ZiYmODv70/VqlWxsrKia9eudOjQgfPnzzN27FjWrVsnPS3TWrBgAYsWLQKgY8eOqKqqYmtrK6srKSmRLVs23N3dqVKlSqIzf+TgeJKlVsupXKkCWzYuz/ADyWNivjB6/HS8ffyYbTaTrl0Uc9jEgwcPZFenFy5ckB3PnTt3kqvTihUrJjkvNfj7+/92hndERASXL1/mwoULuLi4cP/+/SQD/RMUL14cPz8/Pnz4gInpHJ48fUqz6tWYN1SXwgXSd3jKeocT7DznQrZs2VhqvogWzZtJWxSGCNdMKHGwOjg4/PEL+78KDg7GxMSE3bt3AzB16lQsLS1lAREWFkb79u15+PBhireMy+ju3buHqakpzs7O0pJM8+bNuXjxovSwTEhoKIN0hxMZGcnGdZbUqJa6f17y8sDDk0mTzShYsCD2djspUriwtCXTiYqKSrKy18fHR1arUqVKkkDNnj17knPTWkxMDDdu3JBdnd66dYsvX75I235gZGQk27wiPDyCeQsWcf3GTVSLF8Oof1+apcOQiTdv37Ls4BGuPHxEieLFWTB/DnVqa0rbFIoI10zGyMiIVatWUalSJY4fP57qwbpr1y6MjY0JDQ2ldu3aLFu2jHbt2knbePz4MVpaWgQFBbFmzZpkDyDPDF68eEH37t15/vy5tCSzY8cOhg4dKj0MgIXlMhxPnGLEcB1GDk/f23O+vn7cf+DBgwce3LvvTtCbID5++sTHj5/49OkTB/fvRkvr/+9Ibt62h912h+jTW5sZ06Yk+ViZhaenZ5LbvQlXe0pKSklW9lavLt9pWH8jOjoaGxsbnJ2duXr16i/3ef0ZJSUlvn//jpeX1w8DW2zWbcB+3wEAdNq0ZlyPruSVw0YcyXHo8hXWOZwkMjqaRg0bMNNkBqVTuIo6MxLhmomkZbC+evUKY2Nj2XNUU1NT2S3SX7l8+TLt27fn27dv2Nvb079/f2lLphITE8PSpUuxtLTk8+fPsi9eP1OsWDGePn1KYcnVnefjJ+iPGY+amir2u9YnqaWVc+dccXA8xanTTvj7//85YoJiRYtSqHAhChVUZt26VdSv9//xet+/f2eA7ljevAlm546t/Fcp9W+P/quvX78muTp9+vSprFa+fPkkV6fJXYyWlgICAti8eTPbtm0jMDBQWv6tbt26cfz4celhAM5fuIi19TqCQkIooqzM8A7tGdT2/6vf5e2iuwe7nV3x8HkJgP6oEYzUy1ir41OTCNdMIi2DdfPmzRgbGxMeHk7jxo2xsrKiefPm0rafOnz4MAMHxq1OdHZ2pk2bNtKWTOHy5cuMGjUKb29vaemXxowZw/r1SQN03oLFnHN2YabRJLp10UpSS20nT55h7LjJhISGAlC6dCn69etFrZo1qFixPJUqVkBFpbT0tB8cdzzL8lUb6NK5I3NmmUrLGcKLFy+SBGrCHrfEjxnsGD/IQd7bG6am2NhYHB0d2bhxI66urr/8xi4xR0dHunTpIj0sEx0dzdZtO9gbfxVbrFBBejVtQtdGDVErUVzanmJRn2M4e/s2Dtdv8ih+84mWLZqjP0qP/34xulFRiXDNBNIqWJ8/f46xsTGOjo4QPx94zpyUv9i9ceNGJk2aRIkSJXBxcckQt9uSKzQ0lGnTprF3715p6bcSrmpv3rxJ/fr1AfDze4WO7jDKqpfBbmfaLfR69/49U6fOxH5f3F2H4cMGM2LEUJo2+fOEoF8ZqDuOgMA3HD5gn6xATgsuLi6yMPXw+P9et2XKlElyu1d6NyEz8vLyYv369Wzbto2IiAhpGeKvyp89e5asV3h8/fw4cPAwR4/FDU8BqFOxAs2qV6Pef5WoqVEuWR8H4GVQMPe9vLjx5CmX3B/yNX53n6ZNGjOgf18aN2ooPSVLEOH6B+/evePVK3/eBAXz/v17IqMi+fb1Gzly5CB/gfwUK1oMVZXSlC2rTp48eaSn/7O0ClZra2uMjY2JjY2ldevWWFlZyULibyxcuJCFCxdSvXp1nJ2dU2UnGXlzd3dnxIgReHp6JmvhyM/UqVOHW7duoaSkxOYt27DdtYcJ4/QYNODHYeyp4c2bIDp21ubp0+dUq1aFLZvX0rBBPWlbiu3Ze5hNW3ejP1KPkSPSZzDBq1evklydfvr0SVZr1qyZ7Oq0YUPF/GJ+6tQpdHV1k3zeiVlaWjJ9+nTp4d96+/Ydp8+c5ZyLK8+e/X9NQfZs2aigokKZ4sUoXqgQBfLmIWe2bHz7/p2Iz5959ymcwLAwfIKC+RQZKTuvRPHitGvXhs4dO1ClStw0s6xKhKtESGgo16/f5M7de7h7PCIo6I205ZcqVapIbc1aNGrYgGZNm/zzasO0CNaHDx9iZGTEuXPnALCwsMDIyEja9lcMDQ1Zv349rVu3xsXFRVrO0IKDgwkMDOT169cEBAQk+fH69WsCAwMJDg6Wngbx36hMmDCBAYN08fcPwPHITgoXLiRtkztfXz/aaXXH3/81vbS7s2f3Vrnt3hMSEkafgaMor1EOu93/fx0ptV25cgWn+DGDd+7ckR1PGDOY8CMzfPP2L7Zu3Srbim7w4MFJ7qwoKSmRK1cu/Pz8KFasWKKzUualry937tzjgbsHT548wf91gLTlB0WLFKFy5f+oVbMG9evVRVOzlrQlyxLhGu+cswtnzp7j+o2bsmM5c+ZCvUJlSquVo1hJFZQLFSFv3nwoZctG7JdYoiLD+fAujJA3rwl85U2A3/+X9efJk4cOWu3o2qUztf/iL1ziYHVwcJDNtJUnKysrzMzMIP49zmXLllGjRg1p2z9JGETer18/2YbliiI2NpaAgIAkIfz27VuUlZXp3KUro0aPo0nj+iyzSPmt9b/RsHFr3N0fojdcl00braXlfzbVaB637zxgl+1WKqXSe59BQUGyK9Nz584RGv+8GKBBgwZ06tSJDh06/NOYwcxm0aJFLFiwAOJXpXfv3v2HsZRDhgxJ8g62PHz+/JnAwDe8e/eO8IgIvnz5QrZs2cmXLy+FCxemVMmSCrODTWrI8uF66PBR9u0/REBg3Hdpqurl0WzUgup1GlOpWsrew4qMCOfZw7t43r/J/RsXCf8UtztG/Xp1GaQzgGZNm0hP+akZM2awevVq/vvvP44fPy73YL19+zbGxsZcunSJnDlzYmVlhYGBgbRNLr5//46WlhYXL15kwoQJWFvL/4t+RrRrz142btrClEmj6dunm7Qsd/sPHGbY8DFoaJTjkYfbX82k/ZP9h46zdv0ODCaNZ9DAAdLyX3Nzc5MNcrh+/brseMGCBZNcnf5uwIKimjhxIps2baJYsWLs3btXNh2qYcOG3Lt3T9Z3/fp1hb0dnlll2XC9cPESm7fu4OXLuGXijVt1pFn77vxX4/+vIfwrt0vnuOrswHPPBxC/am7s6FFUqPDrrcpSO1gTfxfcs2dPLC0t+e+/1N2YOzg4GC0tLTw9PZk7d+4P+1UqIiMTM65eu47t1jVUrJD6u8u0btOZGzdvce6sA61aJW9ld0o9e+7NqLHTaN2qJRZLFkrLyfbu3TvZlamTkxMBAf+//VirVi3ZEPyfvU+dVURGRjJkyBAcHByoUaMG9vb2SRYGJtzZAqhevXqSfWOFjCHLhWtERASrrddy8tQZABq17kSnXrqoqCd96VqePO5cw+nIHl48fQjAhHFjGKI7SNqWqsF69epVjIyMcHNzQ1lZGUtLS8aMGSNtSzWPHj1CS0uLkJAQ1q5dK3t+pKh69OrL58/RnHZI2arjvxEUFEy58tVpUL8uVy7HPTtPLVpdBlCkcBGOHErZLf779+/Lrk4TT7PKkydPkpW9aTFmMKN78eIFurq63L59mw4dOmBnZ0fRokWT9Jw6dYqePXtC/KtzI0eOTFIX0l+WCtf7D9xZYmHF69evUdf4j15Dx1GtdtrdSrlw6jBHd2/gy5cYWrVswSxTY5SVlSGVg3X27Nmy4fIDBgzA0tJSbjt5pMSFCxfQ0op713P//v307dtX2qIQ3r//QNcevahVoyrrbZI31P9fbNq8HcPJRiyYP4uZJqk7ZH/0uBk8eebFuTMnyJ//13NqIyMjk6zsTbhDRPyepYlv92b0Octp6erVq+jq6uLv78+wYcPYvn27tAWA8PBwChcuTKFChfD398+QwzCyuizzt/r0mbNMmDSZ169f06ZrX0yXb0vTYAVo07Uvs1buoErNely6fIWxEwx58cI71YLVxcWFevXqsXTpUkqUKMH27dvZu3dvugQr8S/zJ6xyHDRoEJcvX5a2pCs/Pz+ePXsmPZxiQUFBAKiopM2It9u37wLQo/uvhwfIi6pq3DuuQUE/rpT29PRk1apVdO3alYIFC9KvXz82b96Mr68vnTp1YsWKFXh4ePDw4UNWrlxJ586dRbAmcvDgQdq1a4e/vz8zZ878ZbACFChQgMaNG6OnpyeCNYPKEn+zDx85xqIlcVcQg8fOYMDIydKWNFNSRZ3J81fTulNvXr58yagx49m6bbtcg/Xbt2/MmDGDTp064e7uztChQ3F3d2fYsPQfPTZgwADWrFnDt2/f0NHR4fHjx9KWdKOmpsbIkSNp0KABVlZW+PnFTZhJqbfxm8cXLZo2m8YHBMa9LlajRuoPZC9aNG4gQ9jbt8TGxnLq1CmmTJlC9erV0dTUxMjICCcnJypUqMC4ceM4fPgwHz9+5OTJk0yePJlq1VL/95gZWVtbM2jQIL5+/crq1atZvHixtOUH7dq1Y/z48dLDQgah8LeFjx13xGr5SrJly8ZYoyXUapg6iz3+xskDOzh5YAdKSrBg7my0tP59n8iTJ09iYmLCkydPUFNTw8rKigED5LeyU17mz5/P4sWLqVmzJi4uLv/0fp48eXl5UbduXaKioiB+OMHgwYPp168fxYsnbzycs4src+cvQn+kLsOHpP585XoNWuDn94rQYF9pSe627diL7e4DFFLOz8ULrsTExMhqbdu2lQ1y0NRM2Ur7rMzMzAwrKyty5MiBnZ1dsh+XhIaGJvvvpJD2FPrK9eKly1gtXwnA+JlLM1SwAnQbMILuA0fy/Tts3LKD0LAwaUuyRUZGYmBggLa2Nk+ePGH06NG4u7tnyGAlPlzHjh3Lw4cPGTTox8Vd6aVSpUpYWVnJfn3t2jUmTZqEqqoqnTt3Zs+ePYSHhyc5Ryo2NhaAHDnS5p9XYMAb2bP71JY9/hWfO3fuUKJECUaMGIG9vT1hYWGcO3cOIyMjEawpMGLECKysrFBXV+f8+fPJDlbiB2kIGVfa/OtPBy9f+rJgcdyehqOmzqNGveS9Y5rWuvbXo133/gQEvGZx/K3rlDpy5Aiampps2LCBSpUqceTIETZs2EDBghn7Be9169bRu3dvXF1d0dXVlZbTzfjx42nb9v/brhF/q93Z2Rk9PT1KliyJjo4OR44cSTIgPkHCZK6vX+NmrKam2NhY3r57R0nJUIHU8vXrVwDMzZfg6+vLli1b6N+/P4UKpf4EKkUSGhpKp06d2L17N40aNcLV1ZWmTZtK24RMTGHDddmKVURHRaE9eAz1m//77dbU1E/PgFr1m+F26zabt/56EYPUu3fvGD16NAMGDODly5cYGBjg7u4uW6KfGdjb29OiRQv279/P1KlTpeV0s2vXLvLlyyc9DPFb0R06dIgBAwZQunRpRo0axblz52TBk3BeRETcreXUFBj/vLVkqbQJ14iIuDmy4ur07z18+JB27drh4uKCtrY258+fp3z5X7/7LmROChmuO3bu5t79B9Rp3IpOfYZIyxnS4PFGKBcqgm387/1P9u7dS61atdixYwc1atTg5MmTrFq1ilxptAGyvOTIkQN7e3uqVKmCjY0NS5YskbakCxUVFdat+/NONuHh4ezcuZMuXbqgoqKCgYGBbGuwd/ELm1KTu3vcu9OlS6XNbN137z4AUKRI2izWUjROTk60a9cOT09Pxo8fz+HDh8mdO7e0TVAACheuL3192bJ1O7nz5KHfiNQZ6ZcaChUuRp9hEwHYuGmLtCwTGBjI0KFDGTZsGG/evGHGjBk8ePCATp06SVszDRUVFezt7SlatCjz5s1jy5Zff/5pISwsjFu3bpEjR44/rt5OvMdmbGwsjRs3plrVqgAEBv74uoq8OTm7AlCvrvwmi/1OYGDca0alSqbNlbIi2blzJ127duXt27csWLAAGxsbaYugQBQuXHfttgOgh44+RYunzXuG8tK4dUc0G7bA4+EjHE+ckpbZvn07tWrVwt7ennr16uHi4iIbDpHZaWpqYm9vD/HPPI8dOyZtkas3b95w7do1du3axfz58xk6dChNmzalVKlSlCpViqZNmzJ06NA/vveasOdlx44defjwIUOGDKFYsaIUKlSQly9fSdvlzskpLlx79+4hLaWKl36vKF6sWIZ/np/RLF26lFGjRkH8RKVZs2ZJWwQFo1Cv4jx5+pSR+uNQUddgzqpd0nKm4PviCZYmYyirXpZ9e3cC4OPjg7GxMUePHoX4iUvz58+XnKkY7O3tGTp0KDlz5sTFxYVmzZpJW5Lt1atXeHt74+Xlhbe3Ny9evJD9/OPHuE0VpEqWLEnFihVlPx4/fsyBAwekbTL58+dn+fLljB49OsnxyVNncOv2HfbuXI+6umqSmrycPetMz14DqVNbk5s3zkvLcuft48vwUZNp1rQJy63iFgsKfzZ58mTWrVtHwYIF2bt3L507d5a2CApIocLVfOkyTpw8he44Y5prdZeWM43tqxdy+4oz8+bM4oXXM0xMTIiKiqJZs2YsW7aMxo0bS09RKNbW1kybNg1VVVWcnZ1/e2vW29v7lwGa8K6qVJkyZZIEaOIf0lWv9evX58GDpM/AlZSU+P79O82aNcPOzu6nE6+2bbdl246dGE2fQM9uHaXlf/b582eq12yIv/9rdu3czMAByX+F428dPXaaldabGDdGn2FDM87q7ozqy5cv6OrqcuTIEapWrYqdnR21a9eWtgkKSmHCNWGea+GiJTDffFhazlS8Hruzcs4kKpTXYN/e3RC/m42pqam0VWHNmTMHCwsLateuzaZNmwgJCUkSoAk/Et4pldLQ0PghOBN+/GoVsJSXlxdV45+fJpYnTx4sLCyYNGmS7Law1AN3D8ZPNKRNq6Ysmm8iLf+TL1++0Lf/EM6edaZVq+acO+sgbUkVM2ebc/WaG1s3rad6dTFp6Xf8/PzQ1dXl+vXrsrGfir6hu5CUwoTr4SNHWbHKmk69ddHWHSstZzqWJmPwffGEenVqoj9qFHXqpM2ClfQQFRX1w1XnixcvuHHjBp8+fZK2A5AtW7YkgVmhQgUqVaok+9+cOXNKT0kxc3Nz2fZ4CVerTZo0wdbWlkqVKknbf6Ddpz9hYW857biXfHnzSMt/JSoqmt59B3H+/CU0NMpx5bITJdJgmMDHT5/opj0UFZXSHD4Q92xc+LmbN28yZMgQfHx8GDx4MLt2Zc5HVMK/UZgFTZcuXwWgXrOU7gH5huP9lWhQRokGZaqz3UtaB2Lvsb5JfE+1Sbj//GJJruo2bQ1A06bNFSJYP336xP379zl8+DCWlpaMHTsWLS0typcvj7KyMrVr16ZPnz4YGxuzceNGzp07R0xMjGzyUNWqVbG2tubUqVM8efKEmJgYHj9+zIkTJ1izZg2TJ0+mW7duVKtWTS7BCrBv3/+3VcuZMycWFhZcunQpWcEK0L5dW759+8ZZJ/k8D7185Rr1GrTg/PlLqKmVweWcY5oEK4DTubht4rSy8B6ryXHs2DHatWuHj48P06dPF8GahSnElWtUVBTtO3allKo686zjVgunSOA2xjfQ5xZA7eU4nJpO4iUoT5dWQNfGByjPyFPeTEiDxyaBr16yaOowGtSvh/XqFdJyhvT27VvZ7VrpLdw3b+KGHUgVKFBAdrUpvQItV64cMTExtG/fnuvXrzNlyhSWL18u/RCp4vHjx9SqVQuAevXqsXPnzhQPnX/23Au9kaOpUrkiWzf+/Z/h5SvX2LZtF/b7DgIwSKc/y5cvoXgazmMerj8Zb29f7HbvoLxG6u19nJlt2LABA4O41/+WLVuWoYaiCGlPIcL1+o2bTDeaSYsOPRk8doa0nCxhdu3pZBz3WkPzde9Y0ytu9w8ezKZn1yUEAKoGd3GYWTfpialozoQBvA8L4aKrU4bZmisoKCjJM8/EP8J+MRu5SJEivwxQVdU/r6T19/dHS0sLLy8vFi9ezMyZM6Utcrdw4UKWLFnC3LlzMTExIUf8TN2UMjIx4+q16yycZ0Tb1n+ebR0QEIjXC2+8vLx5+MiTgwePEhwcAoCqqgqbNqyhY8e0nTh2zuUSC5espE3rlpgvXigtC8DcuXMxNzcHwM7OjoEDB0pbhCxGIcJ1u+0utm7bwdBJpjRt87d7Wvqwp2sFVj8Acg/G6r4d7fLdY32Lemx/BVRdzMGzsyj/d19j/8q2lfO5c82VrZs3UL3ajwtrUou/v/8PwZnw43evsCQOzYoVK8p+XkIOc2/v379P+/bt+fDhA5s2bZK9M5ha+vTpw/z58/95zN/tO3cxnDKdKlUqsXVD0qvu6zfcmDrVhPcfPvLh/QfZVnVSHTu2Z/iwwfTr20taShN6o6fw4sVLNqyzprZm3NW88H+jR49mx44dqKioYGdnR6tWraQtQhakEOE6Z94CXFwvYLpsG+rl/5OWk+/lCnSbz+ApoDzShTX59Rlp4wPUZcrFuwxJ3qM2uTl7ZA/H927GzNSY7l3/9puGn/Px8fkhOBN+/O4Vll8FaOHC8Vf6qcjJyYmuXbsCcPToUXr0SJ3BCbGxsXz//l1uz25nz12A6/kLGEwYyYB+/5/7fPLkGfr0S/pKS8GCytSprUndurWpXbsW7dq2QkUlboPy9LB33xE2bN5Fxw7tmT93trScpX348AFdXV3OnDlD3bp12bt3L//99w9ffwSFohDhOkJ/LE+fPmPVHidy5/m3VZkBW+rRc/69JMeqzPbEbnzKnrfJw70bF9iyfC4jhg9ltP5Iafm3vn79miQwE78L6uXl9dtXWH4VoPnz55e2pzk7OzuGDx9Onjx5cHZ2pkmTjLnbUWIvX/oyeKgeOXLkwHbrasqVVQMgNCyMly/9KKisTMGCyhQsWJB8+fJKT083L7x90dOfTDYlJfbt3Y2aWhlpS5b1+PFjhgwZwoMHD+jWrRt2dnYUKFBA2iZkYQoRrj179SPq8xeW2Z6Qlv5CotvDxC1wOugwPU1vByfwef6IZabj6d6tC2YzjaVloqOjZWEpDdAXL15I2yHRKyzSAE34kRkG/69atQojIyPU1dVxdnamYsWK0pYMZ6/9ftau30i9urVYs2KRtJwhTZpsxgMPTyYbTGTggH7ScpZ1/vx5dHV1CQ4ORl9fn40bN0pbBEExwrVN+04UKlKCBevk8/6d+2IVRm6IW92aq9dhzq7rQ9psRZ1UcOAr5hvoUreOJu3atPohQP38/KSnAJA7d+7fBuivBh9kJrNmzcLS0pJ69erh7OycKWbdzjSbw6XLV+jbpxtTJiUdl5jRrFi9kWMOZ2jbpjVLFinmqM2/sXfvXoYNGwbxg07mzZsnbREEUJRwbdayLSrq5ZmzKm4W7z/xWkL/1rPxkR3IQ+etgSzu8vNnijEvj2A5YSKnH7whBqBgNdoZbmPO6KYo/+PV7tvQIGaP68/7d2959uRRklrCKyyJb9smhGe5cuWS9CqqhIUknTp14uTJk9JyhvP+/QfGjZ+En78/Y0YNYahuxrwatN21n2229pTX0GDThrUUKJD+jwMyguXLl8tWqq9fv54xY8ZIWwRBRiHCtUXr9pRUVWfu6rhRgX8t9jHbO1Vn/ROg9iym/LeC1Yei/796WHJxFOOqT6eh2/hUsinaYybRXP0d7tsWs8ftDcpd7Di0dTD/8iZiWPAb5kwYQL68eWjWpGGSAE3OKyxZQa9evThx4gRDhw5lx44d0nKG8+zZcyZNnkp4eAQTxg5n0MDe0pZ0tWfvYTZt3U2hQgVZu2YVFStWkLZkSTNmzGD16tXky5cPOzu7VFtMJygOhQhXrU7dyJNPmcUb416y/1s+NtXpv/QxUI0JFz0ZWXIvk6vpcvWnt4ffcKCHClaPfgzeuKETgQw4GIXx32/qQuArHxZNHU77dm1YtEDcfvqZqKgo2rdvj5ubG9OmTcPKykrakuHcu3ef6camREdHM3xIf/RHZowh+Ju27GaP/WHy58/PCisLNMVrNwDo6uqyf/9+KlasyN69e6lfv760RRB+kDEmE/yjwoULEf7pg/RwynitYPbSxwCoGtgxshJQcDBzreLGvcUcG4Xluff/7/98l6deQA/dH65oq/QbRXmiufXg/zeX/8anD3HvPRYu9PNb0gLkzZsXe3t7KlSowMqVK1m2bJm0JcOpW7cOa1Yuo1ixouzcc5BF5qv4/DlG2pZmoqKimb9oOXvsD1OyZHHWrFwmghUIDAykXbt27N+/nxYtWuDq6iqCVUg2hQjXkiVKEPM5mk/v30pLyRP7mD2Gce+3UnAUJgb/n8JUTHcrU2oDvOeM4USuJsxQyN2VOY+/c3tN3HuXSbwN5LX02F94GxoMQIkSaTM/NrMqV64c9vb2FChQAFNTU2xtbaUtGU6tWjVZZ72aGtWr4+R8kZFjpnHj5h1pW6q7dv0WeqOn4nL+CpqatVhns0bseAPcvXuXdu3acenSJfr374+rqytlyohXkYTkU4hwLVs2bj/NN699paVkCdihG//qTR46r1xO8yTrN8ozxHox5QE+7mX2/FNxC5d+6T2uO7cRQ3nati0vLabIG/+XkOjzE36tfv362NvHrRbX19fn1KlT0pYMp2xZdbZsWkff3r3we+WPkekirFasIzg4VNoqd0FBIVhY2WAyawkBAYEM6N+XjeusKSOe5XPy5EnatWvH8+fPMTQ0xN7ePsOMHxUyD4X4G1Mp/j1HP59n0tKfvVyBUcLQiA7bMPnZquBKs5gzMu74p/26WLpGSztkfDa0w/hYNMr91jL0HycWvvJ5DkCF8v8W0llFly5d2L59OwA6OjrcunVL2pIhTZ82GfPFCylbVg3Hk+foP3gM6zbYEhD4880O/sXr12+wXreNfoNGc+qMCxrlymJpsZgphpOkrVnSli1b0NbWJjw8HAsLC1auXCltEYRkUYgFTZ6Pn6A/Zjx1m7Ri9IzF0nKaCTvWl34Tj/BJToMnpg7pRP78eTlxLHNv/p7WEl6Z0NDQwNnZGY1MtIvLzl17sLPfT3h4OACtWjShXdvmtGjWmNy5/27AR1TUZ65ev4nL+StcueoGgLKyMkN0dRiqO1janmUtXLiQhQvjNiawtbVlyJAh0hZBSDaFCFeAzt21+fLlKyt2nZaW0kA0Phva0X/xdai9mINHZ1E+t7QnZZ543MF6wVQ6dtBi/txZ0rLwBzNnzmT58uU0bNgQZ2fnDDG6Mbkio6I4evQ4DidO8uqVP8RP1qpbpyY1q1fhv/8qoK6mSqmSJcifP1+Sc8PDIwkKDuGV/2uee/ng8fAx9+4/lNU1yqrTvUd3+vbWJnfuf/xLqkAmTJjA5s2bKV68OHZ2drRvn7Y7DwmKR2HCddESC06fcWLcTAs0G/x5ay+5iX2Pq3E1jPfHv9u6cTDF/vGKFeDA9jVcOHWYubPN6Nypg7QsJMPIkSPZtWsXXbt2xcHBQVrOFG7dvsOlS1e4fvMGAQE/3ibOmTMnuXPHbTAQHR3z05nRamVUadKkMa1btaR+vbTbMjEziIyMRFdXF0dHR2rVqoWdnR3Vq1eXtglCiilMuF65eg3jmbNo2LIDIybPkZZTyXuuTi7P5EPvUR3pgt2idnIbk2gySpvI8I84nT5B3rz/thlBVtajRw9Onz6Nnp4eW7dulZYzlVev/Hn85Cne3t688n9NSEgIHz9+4vPnzwDkyZMHZeUClCxZEjW1MlSsUJ5qVauKgfu/4OXlha6uLnfu3KFjx47Y2dlRpEgRaZsg/BWFCVeA3n11CAoOwnzTYQoX+/c9RP/EZ0M9+i++RxWDa2yc2VRuwXrjwhl2rTWne7eumM00kpaFFAgPD6d9+/bcuXMHIyMjLCwspC1CFnTlyhV0dXV5/fo1w4cPZ9u2bdIWQfgnChWutjt3s3nrdjr0GkzvIeOkZfkK3Mb4BvrcojSaA7v9dPFSmc6LGdku5XtxWs0cw0uvJ2zeuI6aNcQtqn/l4+ODlpYWvr6+WFlZMW3aNGmLkIUcPHgQXV1dvn37hqmpKYsWZY5dioTMRaHCNTw8Au0+/Yn+/JklGw6m7tXraV0a6O+VHk2i/GxvDo5P2Ws0bpecsLVeTEHl/NSqUY2BAwfSoEEDaZuQQm5ubrRv356oqCh27NjB0KFDpS1CFrBmzRqmT58u+/nEiROlLYIgFwoVriS6em3WvhtDxptIyxnefMPBBAf44+P1lJCQuAlN9evXR0dHBx0dHVRUVKSnCMl08uRJtLW1ZT/v1KmTtEVQYKampixbtoycOXNiZ2dHnz59pC2CIDcKMUQiMb3hQylXthzXXE7ifvuatJyhHd29geAAf7R79uD582ds3LiRNm3ayJ4Xqqur06dPHw4cOCA9VUiGbt26sWXLFogfMnH37l1pi6Cghg8fzrJlyyhbtiznz58XwSqkOoW7cgW4cuUaxqazKF5KhZlWW8mXX15LjVKPx51rbLCYSbGixbDbvT3J5t9Pnjxh//797Nu3j+fP46Y2FS1aVHY126zZP2y9kwVZWVlhZmZGxYoVcXZ2Rl1djJdUVCEhIejq6uLq6krjxo2xs7PLVENFhMwr+9y5c+dLD2Z2ZcuqExEZidvNmwQH+lO/edzONhlVWPAbNluZER0dxZxZM6lSpXKSevHixWnTpg2TJk2iRYsW5MyZk/v373Pt2jV27NjBkSNHeP/+PWpqahQu/JPxjUISzZs359OnT5w6dYobN26gq6tLjhw/WZEmZGoeHh5oa2vj5uZGr169cHBwoHhxsQmGkDYU8so1waTJ07h79x5tu/Wj/whDaTlDiP0Sw+p5k/F+9gi94UMZoz9S2vJTMTEx7Nu3j3379uHk5CQ73rlzZ3R0dBg4cCA5c8YNFxB+Tk9Pjz179tCjRw+OHj0qLQuZmJOTE7q6urx7944JEyZgbW0tbRGEVKXQ4RoaGsoEg6n4+/vTue9Qeg4aLW1JV9+/fWOduTGe993o3LEDc+eYSVuSxcfHRxa0jx49AiB//vyy28Zt27aVniLE69q1K05OTowcOZLNmzdLy0ImZGtri76+PsTPCzYz+7t/V4LwLxQ6XAG8vX2YPM2YsLBQ2ncfSF+9jLH0PuLTB7aumMfTh3dp2aI5lhby2XDg6tWrsqB99y5us/UqVaowcOBABg4cSJUqVaSnZGkfPnxAS0uLe/fuMXPmTBYvls+fg5A+LCwsmDMnbkLbli1bGDFihLRFENKEwocrgJfXC2aazSUgMIAGzdoxdJIpOXOl39Dyl16P2b3OgsBXL2nbpjVLFqXOY++ERVCOjo6yY23btpVd0WamYfapycvLCy0tLfz9/Vm+fDlTpkyRtgiZgKGhIevXr6dQoULs3btXvGolpKssEa4Ab4KCmL9wCe7uHqioazBg1BSq1KwnbUt1F08fYf+21QD07dOL6VMnS1vkLiAgQHY1m/D6Sc6cORk4cCA6Ojp07txZekqWc/36dbS0tPj8+TO7du1i8GCxFVtm8eXLFwYPHszRo0epVq0adnZ2aGpqStsEIU1lmXBNsGzFKo4ei9shpV33AfTQGUXuPHmlbXL3yuc5jvZbeXj3OgDTp06mb59e0rZUd+vWLVnQBgUFAaChoSG7mq1Zs6b0lCzDwcFB9v7j6dOn6dBB7EaU0fn6+qKrq8uNGzdo27YtdnZ2lCxZUtomCGkuy4UrwDlnF6zXbiQsLBTlgoXQ6jmINt37kzOH/FfXBge+wsXxAJedjgNQv15dDCZNoPJ/laStae7YsWPs27ePQ4cOyY41a9ZMFrRFixZN0p8VbN26lXHjxlG4cGFcXFyoXbu2tEXIIG7evImuri4vX75EV1eXnTt3SlsEId1kyXAFiIqOZtt2W/ba7wcgb/78NG3bjUYtO1C24r8v+nG/fZVbl5y4c+08ACVKlGDE8KH00u4hbU13YWFhsqvZ69fjrqwBBgwYgI6ODj179kzSr+gSFsVUrlyZc+fOUaaM2LItozl69Ci6urrExMQwY8YMli5dKm0RhHSVZcM1QUBAIAcPH+HoMQdiYmIAUFHXoFrthlSsWptylapQtHgp6Wk/CPDz5uXzxzzzvM/jezf59PE9AGpqavTtrc2A/n1RUlKSnpbhuLu7y4LWz88PABUVFdnVbP369aWnKKRp06ZhbW1Ns2bNcHFxEe8MZyDr16/H0DDuvXWxAE3IqLJ8uCaIjIrCycmZ8xcucuv2nSS1fPkKULREaZQLFyFP3rxky5ad2NhYIiPC+fgujNDgAL7Gxv6/P29eWrZsTru2bWnZIvOOJjx9+rQsaL9+/QpAgwYNZAuhFH0TgaFDh2Jvb0+vXr2S3DpPT/6vX+Pj85JX/v6Ehb3l48ePss3Sc+fOTUHlghQvXgx1NTXKV9CgjKqq9ENkanPnzsXc3ByAvXv3MmDAAGmLIGQIIlx/4sOHj9y9d4+HDz159vw5vr6vCA0LlbYBoKSkhKqqKhXKa1C1SmU0NWtRv15daVum9unTJ1nIXrx4UXZcW1sbHR0d+vfvn6RfkXTq1AkXFxdGjx7Nhg0bpOUfPHjwQK7PacPDI7h0+Qo33W5x9949wsLeSlt+q0Tx4tStW5smjRvRqmUL8uXLJ23JNPT19bG1tUVVVRU7OztatmwpbRGEDEOEazLFxHzhw4cPREZF8u3rN3LkyEGBAvkpUqSItFWhZbVNBN69e0f79u1xd3dn1qxZLFiwQNoi4+fnx5gxYzhz5oy0lGJ37t7jxMlTnHVylh3LmzcPNWpUpVIFDdTVVSlVojiFChckT67cfOc7n2O+8OH9B4JCQnnlF8DzF954Pn5KVFTcla2SkhKdOnagR/eu1K0jv28AUtv79+/R1dXl7Nmz1KtXDzs7O/777z9pmyBkKCJchb/m6uoqu6KNjIwEoFatWujEzzZWlN1Hnj59ipaWFoGBgaxatQoDAwNpCwBz5sxh5cqVvH37lty5/25IyY2bbtjt3cedu/cAKFmyOG1bN6dF04bUqfN3r0ndvefBlWtunL94jdDQMAAaNmzAkEE6NGyYsZ+hP378GF1dXdzd3enevTt2dnZi+ImQKYhwFf7ZnzYR0NHRyfS7zly9epX27dsTGxuLnZ0dAwcOTFKPjY2lbNmyBAcHc+7cuRTPc34dEMCmzVtxdolbXV63Tk169exCuzbNpa3/xNn1EseOn+GBhycAHTu0Z9wYfUqXLi1tTXfnz59n8ODBhISEJPu2vCBkFCJcBbn62SYCBQoUkF3NpjR0MpKjR4/Kni87OTnRrt3/tzI8ePAggwYNAsDY2Fi26CY5jh13ZLW1DTExX6hauRLDhw6gRfNG0ja5unj5Brt2H+CZlzd58uRh6mQDenTvKm1LN3Z2dgwfPhziFzHNnTtX2iIIGZoIVyHVXLlyRRa079/HvZqUsImAjo4OlSsn3bc2M9i8eTMTJkygWLFiuLi4yCZaaWlpceHCBQDq16/PzZs3JWf+nKXVCo47ngBgrP5QhgzuK21JVTv3HGTrdjsA+vTWZsa09H+tZfny5cycOROADRs2MHp0xtrNShCSQ4SrkCYUaROBxYsXM3/+fKpWrYqzszPh4eFUrVpVVldSUiIkJOS3G9d//PiR2XMXcPvOXSpW1MB42gSqV0ufbzbcHz5m+coN+Lz0o3GjhixeOC/d/jymT5/OmjVryJ8/P3Z2dnTv3l3aIgiZQva5c+emzpYsgpBIzZo10dHRYdSoUaiqqhIWFsb169c5ceIEK1as4MWLF+TNm5dKldJ/LOSftGrVirdv33Lq1Clu3bqFv7//D1eqdevWpUaNGkmOJQgLe8t0o5m4ezykVYsmLF86F5XS6TcPt1TJEnTq0Aafl6+4fuMWd+/dp1XLFuTJk0fammq+f/+Orq4u27dvp1KlSjg4ONCmTRtpmyBkGuLKVUg3mX0TgcGDB3PgwAFy5szJly9fktT09fXZuHFjkmMAkZGRGE6ZjufjJ3Tt3B5T45+vPE4viy1Wc/bcBTRr1WTNquV/veo5JQICAtDV1eXy5cu0bNkSOzs7VBVs+IWQ9YhwFTKEn20i0Lx5c9lCqIyyiUBMTAw3btzAxcUFV1dXbty4wffvSf8JKSkpoa6ujre3d5LjADOMTbl2/QZdOrXFzCT1txv8GwuXrOScyyVatWzBUvNF0rJc3b17l8GDB+Pl5cWAAQOws7PLFGNCBeFPRLgKGUpoaKjsavbGjRuy4+m1icC3b9+4c+cO58+fx8XFhatXrxIdHS1t+6mnT59SsWJF2a9t1m7Afv8BmjSuzzKLOUl6M5qpRvO4fecBQ3UHM35c6iwoOnHiBLq6ukRERDB58mRWrFghbRGETEuEq5Bh/WwTAVVVVdlq49TeRODr168sWbKENWvW8OHDB2n5j9avX8+YMWMAOH/hIrPmzKd06ZJs3rCMIoUKSdszlLC37xg9fgYhIWFYWiymZQv5vm+7ZcsWxo8fD8DSpUuZMWOGtEUQMjURrkKmcOrUKdmK48SbCCQ8n03NIQjR0dEcOHCADRs2cOvWLYi/9Su9HSzVp08fDhw4QFR0NIN0hxIcHMoyizk0aZy63xTIy5WrtzCdswRVVRXs9+wiZ075DAJZuHAhCxcuBGDnzp3o6upKWwQh0xPh+r/27jWsqjL94/gXC51UBASP6GiUpSgIHhKbGqUUMlLDzAxy1KGDSuaVNo1a1qg1jaN5QByGxBO6G5AATSGtlAoP/9TKOKg5qZeKylZUDgKJ5v6/2Mi4V5pZe+OB3+ed676XF+vV71rPftZzy03legwRqKyspG7dulB1MH9sbCzvv/8+5eXlPxuyrq6uFBYWMn9BLIlJyTz5RH9eioo0ttWogwcPsfPbHL79NodvdmZjLjBTUlpKSUkppaWlJCctp0+f/x30MTs6jrRVH9lteXj06NEsXLiQJk2aYDKZbA7iELmVKFzlpnW5IQIeHh7Vm6DsNURg48aNFBUVMWjQoOprJSUlJCQk8N5777Frl/UowTp16nDhwoVL7oSUlFRmzJqDR2M3ElfE8bvfOX73rdEnn2zkwzUZZHz0Mfn5R4xlPBo3xtXNFddGLixYMIeuXfyra2fOlDP0mVEUl5Sw8j8raNXq1w2OLysrIyIigrVr1+Ln54fJZKJDhw7GNpFbhsJVbgkbNmyofqOtqKiAS4YIDB06lDZt2hhv+cX27NmDv78/a9asoW/fvsYyWVlZxMbGkpqayvlL5voCBAc/QlFpGS9FRfLkE/1tao6Wnr6OF0aN40ShdVxi8+bNGDz4cXw7deSuu+7k7ru8adHi6svpiStXseDfSxkU9jivjL/2Hc7ff/894eHhfP3114SEhGAymX72gA2RW4HCVW4pVxoi0K9fv+qNUNc6RODMmTO4ublRr149MjMzue++y5/7azabWbRoEfHx8dUbsBq5uvHAH3uRtnKxsd1hThcV8fLLE/lPYjIAw/8UzsiRw+gZePm/+2osFgsDnxjJ6aIiMtakXVMwZmVlERERwdGjRxkxYgTx8fHGFpFbksJVbln79+8nMTGRpKSknwwRGDp06DWdAOTu7k5paSmurq5kZWXh4+NjbKl24cIF1q1bx2uvvUZubi7z58/luchnjG0OUVBgJviRgXz33X/p0OFeFr4XQ/duXYxt12zhIhMJpmReHDOK8KdtJwJdycqVK4mIiMBisTB58uTqTUwitYHCVWqFyw0RaN++ffX3s1cbIuDn51f922qzZs3YsmXLVZeah42IJC8vj8Vxc/D1vXIY28vBg4d4qM9j5Ocf4fGBj7FieTzOzs7Gtl/l8OGjhA8fw7333sOS+Dhj+SfmzZvHhAkTAIiOjmbMmDHGFpFbWh3jBZFb0QMPPEBMTAyFhYWYTCb69+/Pnj17mDZtGj4+PgQHB7N48WLKysqMt0LV97UXmc1m+vTpw8mT1sHjl7Nv/wH27dtPz8DuNRKsAIOHDCM//wgjhkeQlLjMbsEK0Lp1S/x8ffjuu70crFryvpKJEycyYcIE6tatS3JysoJVaiWFq9Q6Tz31FGlpaRw8eJAZM2YQEBDAxo0bef755/H09GTkyJGsX7/e5h4vL9tdsgcOHKBv376UlpbaXL9o+/YdANwf2M1YcoiklSlkZ+fStm0bFsTMNpbtIvA+6/Lyjh1fG0vVhg8fzqxZs2jbti2ZmZmEhYUZW0RqBYWr1FpeXl5MmDCB7du3s3XrVsaNG0fjxo1Zvnw5oaGhtGvXjilTppCbm/uTcKXqBKlHH32UyspKY4nsnBwAAvx9jSWH+Ne/FgKwMG7+NW/Y+qUCAqzP8m229dkudeLECfr27YvJZCIwMJANGzbQo0cPY5tIraHfXEUM0tLSSExMJCUlpfqat7f3ZQ/iBwgNDSU1NZXbbrut+tqgwUMpKi7ik4wkm15HMJuP0+ZOH7p1DWBT1ifGst1YLBaCggfTvHkzkhOtA9YBcnJyCA8PZ/fu3YSFhWEymaoP3RCprfTmKmIQFhZGUlISBQUFzJ07l8DAwCsGK0B6ejovvPBC9b9Lz5yhwGzmzjatbfocZdXqtVgsFh57rJ+xZFdOTk54t23DkSNHq4cXrF+/nqCgIHbv3k1UVBTJyckKVhGFq8iVeXp6EhUVddWdxE5OTixdupTx48dD1ecwAC1btjB0OsZXX30DQH8HhytAy5bWoe7HjhWwdOlSQkNDKSoqYvr06cybN8/YLlJrKVxFruD8+fMMGTKEhIQEY8mGxWLBycmJ6OhoZs6cWb2L2NOzZmbQHqsK844dHX+coEfVM82PieHZZ58FID4+nkmTJhk6RWo3havIZZSXlzNgwADS0tKMpcu6eHj/pEmTSE/PAMClYQNDl2OYC47ToEF942WHcGlgfably5fj5uZGRkYGI0aMMLaJ1HoKVxGD4uJiQkJCbI5PvBonJyeaNm1Kjx492LQpC4Dbnf+3wcmRCsxmGjZsaLzsELdXfTvbuvXvyczMJDg42NgiIgpXEVsnTpwgKCiIrVu32ly/4447aN++PcHBwURGRjJt2jSWLFnChg0b2Lt3LxUVFRw9epTNmzdXL5Fe+NHxG/EtFgvHj5/Aw6NmlqAvTv1588038PWtmc+MRG5GCleRKufOnSMmJoaQkBDmzJnD6tWr2bFjB2azmdLSUnJzc8nIyCAuLo7JkyczbNgwevXqhbe3t823pXfcYV2iLS+3TudxpOPHT2CxWGjatImx5BDlZdZnatasmbEkIpdQuIpUcXZ2ZurUqbzzzjuMHTuW0NBQ/P398fDwMLb+LHd369SY00XFxpLdFZitm5ma11DYFVU9k/s1TMYRqY0UriJ21rSJ9S3y4i5eR9q27SsAOnfuZCw5xDHzcYAae1MWuVkpXEXsrGnTJjRo0IBDB/ONJbtLSV0NwCMhPx3i7giHDuXj5uaKu7u7sSQil1C4ijjAPe3upvDUacxVb3qOkJOTx2efZdGiRXN8fNoby3aXn3+MouIS2rW721gSEQOFq4gD+Ppal2l3ZltnwDrCqNHjsFgsjH/5RWPJIXZmWwfO+2mXsMhVKVxFHKBrgD8A27Zbjya0txWmJHZ89Q133tmWqDHPG8sOcfFZulQ9m4hcmcJVxAG6d+9Go0aN2LRlW/W3ofaSmvYhL461nmMcu2COzTQeR6msPMfmLdto3NidAP/OxrKIGChcRRzkoaBelJdX8PGnnxtLv8rJU6d49rkong4fSUXFD8ydPYOgoD8a2xzi408/p/LcOR5+KMhYEpHLULiKOEi/EOvRgOkZnxpL1+SHH86yaHECnTrdx/IViQC8b1rM6NHWg/NrQnqGdU5sSHDN7EoWudkpXEUcxNe3EwEB/uzMzuPLbV8byz9r374DrP4wnYhnImne0psxUS9z6vRpBoUNYFfuDp4YNNB4i8Ns3rKN3F3fcV/3bvh0cPyuZJFbgdP58+cdfwCqSC31RdYmJk6eQoB/J6Jnv2VT27v3e+IXLaO4uJiiomKKS0o4dOgw+/YdsOlr1MiF8KeH8GzkcHx9O9rUakLUuMlk5+zi3Zn/oGdgD2NZRC5D4SriYC9PeJUvt21n4l9eJLRfn+rra9eu44knI2x6L+rs54u/vy+9ez9I+NNDjOUas3rNembNieUP9/dk5oy/G8sicgUKVxEHy8vbxXOjonB3dWXZ4mjc3V2haoNSXu5um16XRi4E+PvZXLteTpw4yfDIlyg9U8aS+DjuvfceY4uIXIHCVaQGxC1cxLKEFfR6sCdvTf2rsXxDmvj622zesp3IP48gcuRwY1lEfoY2NInUgBeei8S/sx+fZ21l8TLrjt8b2cLFJjZv2U63rl0UrCK/gsJVpIZM+utfcHNzZcmyRD5cu95YvmGkrfqIhBXJeHi4M/HVV4xlEfkFFK4iNaR161ZMfWMKADNnx5KxbqOx5bpbk/4Js6PjAJj6xhRatmxhbBGRX0DhKlKDunfvytvT/wbAO/+MJiU13dhy3az84EP++e4CAGa88xZdugQYW0TkF9KGJpHr4IusTUx+/U0uXLjAkMEDGDvmz8aWGjU3ZiEpqek4Ozvz97em8of7expbROQaKFxFrpOcnFz+Nv1tjh0rwN+vI2NfjOSeu72NbQ61Z+/3zI9ZRHbublq38uKN1yfTsaOPsU1ErpHCVeQ6Ol1UxKx355D52RcAjBg2hJHDh1KnjmN/sTl37hxLEpJYbvoAgIcf6s2rr4zHxcXF2Coiv4LCVeQGkJK2ith/L6S8vBxPTw+GDhlA2MBHqevsbGz9Tc6erSR1VTpJyas5eaoIl4YNGT3qeR4f2N/YKiK/gcJV5AZx6tRpliYs54OUNAAaNKhPSHBvHu79AH6+v22pdmd2HpmZm1n38UbKK34A4KknBzP8T8/g5mY9MUpE7EfhKnKDOXw4n5S0VaxZm05FVRA2bepJ1wBfOvq0p107b37fyouGDesbbwWgtKyMw4eOsPe/+8nN28NX3+RQWHgSgPr16zNwwGOEPT6AVl5exltFxE4UriI3qMrKSj7dkMnnX2Sx9f++5Pz58zZ1l4YNcHFxoV69ulC15FtSWsKZM+U2fXXrOhPYowe9ez1In4cf4vbbb7epi4j9KVxFbgI//vgj32bnkJe3i/0HDnA4/wiFhYUUF5dw9uxZAOrVq4erayOaNGlCKy8v7r7LG58O7fH374yTk5PxvxQRB1K4ioiI2Jlj9/uLiIjUQgpXERERO1O4ioiI2JnCVURExM4UriIiInamcBUREbEzhauIiIidKVxFRETsTOEqIiJiZwpXERERO1O4ioiI2JnCVURExM4UriIiInamcBUREbEzhauIiIidKVxFRETsTOEqIiJiZwpXERERO1O4ioiI2JnCVURExM4UriIiInamcBUREbEzhauIiIidKVxFRETsTOEqIiJiZ/8PnAnNm52+V1oAAAAASUVORK5CYII=)"
      ],
      "metadata": {
        "id": "iS9Nt_u8eUih"
      }
    },
    {
      "cell_type": "code",
      "source": [
        "class SimpleClassifier(nn.Module):\n",
        "\n",
        "  def __init__(self, num_inputs, num_hidden, num_outputs):\n",
        "    super().__init__()\n",
        "    # Initialize the modules we need to build the network\n",
        "    self.linear1 = nn.Linear(num_inputs, num_hidden)\n",
        "    self.act_fn = nn.Tanh()\n",
        "    self.linear2 = nn.Linear(num_hidden, num_outputs)\n",
        "\n",
        "  def forward(self,x):\n",
        "    # Perform the calculation of the model to determine the predection\n",
        "    x = self.linear1(x)\n",
        "    x = self.act_fn(x)\n",
        "    x = self.linear2(x)\n",
        "    return x\n"
      ],
      "metadata": {
        "id": "SYsZDFRDeIPK"
      },
      "execution_count": null,
      "outputs": []
    },
    {
      "cell_type": "code",
      "source": [
        "model = SimpleClassifier(num_inputs=2, num_hidden=4, num_outputs=1)\n",
        "print(model)"
      ],
      "metadata": {
        "id": "Uo5hzDG9gLKw"
      },
      "execution_count": null,
      "outputs": []
    },
    {
      "cell_type": "code",
      "source": [
        "# named_parameters() returns (name, parameter) pairs for all learnable weights\n",
        "for name, param in model.named_parameters():\n",
        "  print(f\"Parameter {name}, Shape {param.shape}\")\n",
        "\n",
        "# Each linear layer has a weight matrix of the shape [output, input], and a bias of the shape [output]."
      ],
      "metadata": {
        "id": "tmML1BRyggOB",
        "collapsed": true
      },
      "execution_count": null,
      "outputs": []
    },
    {
      "cell_type": "markdown",
      "source": [
        "**Loss Modules**"
      ],
      "metadata": {
        "id": "Y8kLsNNFlytg"
      }
    },
    {
      "cell_type": "markdown",
      "source": [
        "**Binary Cross Entropy (BCE)**\n",
        "\n",
        "![image.png](data:image/png;base64,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)"
      ],
      "metadata": {
        "id": "so-ZLZphl8XR"
      }
    },
    {
      "cell_type": "code",
      "source": [
        "loss_module = nn.BCEWithLogitsLoss() # It combines a sigmoid layer and the BCE loss in a single class.\n"
      ],
      "metadata": {
        "id": "5F7R1nmLlwJ8"
      },
      "execution_count": null,
      "outputs": []
    },
    {
      "cell_type": "markdown",
      "source": [
        "**torch.optim.SGD** Stochastic Gradient Descent updates parameters by multiplying the gradients with a small constant, called learning rate, and subtracting those from the parameters (hence minimizing the loss)."
      ],
      "metadata": {
        "id": "gfpCjg0ImwMg"
      }
    },
    {
      "cell_type": "code",
      "source": [
        "# Input to the optimizer are the parameters of the model: model.parameters()\n",
        "optimizer = torch.optim.SGD(model.parameters(), lr=0.1)\n",
        "\n",
        "# torch.optim that has most popular optimizers implemented."
      ],
      "metadata": {
        "id": "Suh5jD3cmYea"
      },
      "execution_count": 27,
      "outputs": []
    },
    {
      "cell_type": "markdown",
      "source": [
        "**Saving a model**\n",
        "\n",
        "we save the model to disk so that we can load the same weights at a later time. For this, we extract the so-called state_dict from the model which contains all learnable parameters.\n",
        "\n",
        "state_dict = model.state_dict()\n",
        "print(state_dict)\n",
        "\n",
        "To save the state dictionary, we can use torch.save\n",
        "\n",
        "torch.save(object, filename).\n",
        "\n",
        "For the filename, any extension can be used\n",
        "torch.save(state_dict, \"our_model.tar\")\n"
      ],
      "metadata": {
        "id": "M-fie48wnkp-"
      }
    },
    {
      "cell_type": "markdown",
      "source": [
        "**Evaluation**\n",
        "\n",
        "![image.png](data:image/png;base64,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)"
      ],
      "metadata": {
        "id": "5SJHksXgoFjR"
      }
    },
    {
      "cell_type": "markdown",
      "source": [
        "**uffffff, finally done with the bloggggg, i skipped some topics but will them in the path, thanks if u read this :)**"
      ],
      "metadata": {
        "id": "YVwFoBy1obFx"
      }
    },
    {
      "cell_type": "code",
      "source": [],
      "metadata": {
        "id": "MGYhTe23m63Z"
      },
      "execution_count": 27,
      "outputs": []
    }
  ]
}